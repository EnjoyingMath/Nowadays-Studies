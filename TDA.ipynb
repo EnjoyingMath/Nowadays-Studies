{
  "nbformat": 4,
  "nbformat_minor": 0,
  "metadata": {
    "colab": {
      "provenance": [],
      "include_colab_link": true
    },
    "kernelspec": {
      "name": "python3",
      "display_name": "Python 3"
    },
    "language_info": {
      "name": "python"
    }
  },
  "cells": [
    {
      "cell_type": "markdown",
      "metadata": {
        "id": "view-in-github",
        "colab_type": "text"
      },
      "source": [
        "<a href=\"https://colab.research.google.com/github/EnjoyingMath/Nowadays-Studies/blob/main/TDA.ipynb\" target=\"_parent\"><img src=\"https://colab.research.google.com/assets/colab-badge.svg\" alt=\"Open In Colab\"/></a>"
      ]
    },
    {
      "cell_type": "code",
      "metadata": {
        "id": "vyIv_o9oZ-a1"
      },
      "source": [
        "from sklearn.datasets import make_circles\n",
        "import matplotlib.pyplot as plt"
      ],
      "execution_count": null,
      "outputs": []
    },
    {
      "cell_type": "code",
      "metadata": {
        "colab": {
          "base_uri": "https://localhost:8080/",
          "height": 248
        },
        "id": "FY4Zt00MaTvy",
        "outputId": "ce930932-375a-4330-8ab3-b6a5216c1521"
      },
      "source": [
        "X=make_circles(100)\n",
        "y=[1 if (i[0]>0.1 and i[1]>0.1) or (i[0]<-0.1 and i[1]<-0.1) else 0 for i in X[0]]\n",
        "plt.scatter(X[0][:,0],X[0][:,1],c=y)\n",
        "plt.axis('off')\n",
        "plt.show()"
      ],
      "execution_count": null,
      "outputs": [
        {
          "output_type": "display_data",
          "data": {
            "image/png": "[encoded data removed]",
            "text/plain": [
              "<Figure size 432x288 with 1 Axes>"
            ]
          },
          "metadata": {
            "tags": [],
            "needs_background": "light"
          }
        }
      ]
    },
    {
      "cell_type": "code",
      "metadata": {
        "colab": {
          "base_uri": "https://localhost:8080/"
        },
        "id": "Pw-kbbZkbBKn",
        "outputId": "c6c636c3-dbd4-49aa-e875-44be00bf2796"
      },
      "source": [
        "import numpy as np\n",
        "np.array(y)"
      ],
      "execution_count": null,
      "outputs": [
        {
          "output_type": "execute_result",
          "data": {
            "text/plain": [
              "array([0, 0, 0, 0, 0, 0, 0, 0, 0, 0, 0, 0, 0, 0, 0, 0, 0, 0, 0, 0, 0, 0,\n",
              "       0, 0, 0, 0, 0, 0, 0, 0, 0, 0, 0, 0, 0, 0, 0, 0, 0, 0, 0, 0, 0, 0,\n",
              "       0, 0, 0, 0, 0, 0, 0, 0, 0, 0, 0, 0, 0, 0, 0, 0, 0, 0, 0, 0, 0, 0,\n",
              "       0, 0, 0, 0, 0, 0, 0, 0, 0, 0, 0, 0, 0, 0, 0, 0, 0, 0, 0, 0, 0, 0,\n",
              "       0, 0, 0, 0, 0, 0, 0, 0, 0, 0, 0, 0])"
            ]
          },
          "metadata": {
            "tags": []
          },
          "execution_count": 14
        }
      ]
    },
    {
      "cell_type": "code",
      "metadata": {
        "id": "7MuRN_iObs0P"
      },
      "source": [
        "!python -m pip install -U giotto-tda"
      ],
      "execution_count": null,
      "outputs": []
    },
    {
      "cell_type": "code",
      "metadata": {
        "id": "yFYuAMR5po7J"
      },
      "source": [
        "!pip install openml"
      ],
      "execution_count": null,
      "outputs": []
    },
    {
      "cell_type": "code",
      "metadata": {
        "id": "u1nAuaaFp4oJ"
      },
      "source": [
        "!pip install delayed"
      ],
      "execution_count": null,
      "outputs": []
    },
    {
      "cell_type": "code",
      "metadata": {
        "colab": {
          "base_uri": "https://localhost:8080/",
          "height": 202
        },
        "id": "HdG4nIg2pF21",
        "outputId": "cc2fed2c-0eb7-4bde-e85d-de621e3669c2"
      },
      "source": [
        "from openml.datasets.functions import get_dataset\n",
        "df = get_dataset('shapes').get_data(dataset_format='dataframe')[0]\n",
        "df.head()"
      ],
      "execution_count": null,
      "outputs": [
        {
          "output_type": "execute_result",
          "data": {
            "text/html": [
              "<div>\n",
              "<style scoped>\n",
              "    .dataframe tbody tr th:only-of-type {\n",
              "        vertical-align: middle;\n",
              "    }\n",
              "\n",
              "    .dataframe tbody tr th {\n",
              "        vertical-align: top;\n",
              "    }\n",
              "\n",
              "    .dataframe thead th {\n",
              "        text-align: right;\n",
              "    }\n",
              "</style>\n",
              "<table border=\"1\" class=\"dataframe\">\n",
              "  <thead>\n",
              "    <tr style=\"text-align: right;\">\n",
              "      <th></th>\n",
              "      <th>x</th>\n",
              "      <th>y</th>\n",
              "      <th>z</th>\n",
              "      <th>target</th>\n",
              "    </tr>\n",
              "  </thead>\n",
              "  <tbody>\n",
              "    <tr>\n",
              "      <th>0</th>\n",
              "      <td>0.341007</td>\n",
              "      <td>0.318606</td>\n",
              "      <td>0.096725</td>\n",
              "      <td>human_arms_out9</td>\n",
              "    </tr>\n",
              "    <tr>\n",
              "      <th>1</th>\n",
              "      <td>0.329226</td>\n",
              "      <td>0.421601</td>\n",
              "      <td>0.056749</td>\n",
              "      <td>human_arms_out9</td>\n",
              "    </tr>\n",
              "    <tr>\n",
              "      <th>2</th>\n",
              "      <td>0.446869</td>\n",
              "      <td>0.648674</td>\n",
              "      <td>0.124090</td>\n",
              "      <td>human_arms_out9</td>\n",
              "    </tr>\n",
              "    <tr>\n",
              "      <th>3</th>\n",
              "      <td>0.314729</td>\n",
              "      <td>0.217860</td>\n",
              "      <td>0.070847</td>\n",
              "      <td>human_arms_out9</td>\n",
              "    </tr>\n",
              "    <tr>\n",
              "      <th>4</th>\n",
              "      <td>0.426678</td>\n",
              "      <td>0.919195</td>\n",
              "      <td>0.047609</td>\n",
              "      <td>human_arms_out9</td>\n",
              "    </tr>\n",
              "  </tbody>\n",
              "</table>\n",
              "</div>"
            ],
            "text/plain": [
              "          x         y         z           target\n",
              "0  0.341007  0.318606  0.096725  human_arms_out9\n",
              "1  0.329226  0.421601  0.056749  human_arms_out9\n",
              "2  0.446869  0.648674  0.124090  human_arms_out9\n",
              "3  0.314729  0.217860  0.070847  human_arms_out9\n",
              "4  0.426678  0.919195  0.047609  human_arms_out9"
            ]
          },
          "metadata": {
            "tags": []
          },
          "execution_count": 1
        }
      ]
    },
    {
      "cell_type": "code",
      "metadata": {
        "colab": {
          "base_uri": "https://localhost:8080/"
        },
        "id": "Oy_dKRNypcfi",
        "outputId": "451947c2-5958-43df-cd09-c75ae6062331"
      },
      "source": [
        "df['target'].map(lambda x:x[:-1]).value_counts()"
      ],
      "execution_count": null,
      "outputs": [
        {
          "output_type": "execute_result",
          "data": {
            "text/plain": [
              "dining_chair      4000\n",
              "vase              4000\n",
              "biplane           4000\n",
              "human_arms_out    4000\n",
              "Name: target, dtype: int64"
            ]
          },
          "metadata": {
            "tags": []
          },
          "execution_count": 9
        }
      ]
    },
    {
      "cell_type": "code",
      "metadata": {
        "colab": {
          "base_uri": "https://localhost:8080/",
          "height": 542
        },
        "id": "2u6S7qIfq6BO",
        "outputId": "0b7e94ee-33d7-4f14-fb55-36ebd9a15f00"
      },
      "source": [
        "from gtda.plotting import plot_point_cloud,plot_diagram\n",
        "plot=plot_point_cloud(df.query('target == \"biplane0\"')[[\"x\", \"y\", \"z\"]].values)\n",
        "plot"
      ],
      "execution_count": null,
      "outputs": [
        {
          "output_type": "display_data",
          "data": {
            "text/html": [
              "<html>\n",
              "<head><meta charset=\"utf-8\" /></head>\n",
              "<body>\n",
              "    <div>            <script src=\"https://cdnjs.cloudflare.com/ajax/libs/mathjax/2.7.5/MathJax.js?config=TeX-AMS-MML_SVG\"></script><script type=\"text/javascript\">if (window.MathJax) {MathJax.Hub.Config({SVG: {font: \"STIX-Web\"}});}</script>                <script type=\"text/javascript\">window.PlotlyConfig = {MathJaxConfig: 'local'};</script>\n",
              "        <script src=\"https://cdn.plot.ly/plotly-latest.min.js\"></script>                <div id=\"70e6ce93-1098-4b7f-9200-628c43cfce84\" class=\"plotly-graph-div\" style=\"height:525px; width:100%;\"></div>            <script type=\"text/javascript\">                                    window.PLOTLYENV=window.PLOTLYENV || {};                                    if (document.getElementById(\"70e6ce93-1098-4b7f-9200-628c43cfce84\")) {                    Plotly.newPlot(                        \"70e6ce93-1098-4b7f-9200-628c43cfce84\",                        [{\"marker\": {\"color\": [0, 1, 2, 3, 4, 5, 6, 7, 8, 9, 10, 11, 12, 13, 14, 15, 16, 17, 18, 19, 20, 21, 22, 23, 24, 25, 26, 27, 28, 29, 30, 31, 32, 33, 34, 35, 36, 37, 38, 39, 40, 41, 42, 43, 44, 45, 46, 47, 48, 49, 50, 51, 52, 53, 54, 55, 56, 57, 58, 59, 60, 61, 62, 63, 64, 65, 66, 67, 68, 69, 70, 71, 72, 73, 74, 75, 76, 77, 78, 79, 80, 81, 82, 83, 84, 85, 86, 87, 88, 89, 90, 91, 92, 93, 94, 95, 96, 97, 98, 99, 100, 101, 102, 103, 104, 105, 106, 107, 108, 109, 110, 111, 112, 113, 114, 115, 116, 117, 118, 119, 120, 121, 122, 123, 124, 125, 126, 127, 128, 129, 130, 131, 132, 133, 134, 135, 136, 137, 138, 139, 140, 141, 142, 143, 144, 145, 146, 147, 148, 149, 150, 151, 152, 153, 154, 155, 156, 157, 158, 159, 160, 161, 162, 163, 164, 165, 166, 167, 168, 169, 170, 171, 172, 173, 174, 175, 176, 177, 178, 179, 180, 181, 182, 183, 184, 185, 186, 187, 188, 189, 190, 191, 192, 193, 194, 195, 196, 197, 198, 199, 200, 201, 202, 203, 204, 205, 206, 207, 208, 209, 210, 211, 212, 213, 214, 215, 216, 217, 218, 219, 220, 221, 222, 223, 224, 225, 226, 227, 228, 229, 230, 231, 232, 233, 234, 235, 236, 237, 238, 239, 240, 241, 242, 243, 244, 245, 246, 247, 248, 249, 250, 251, 252, 253, 254, 255, 256, 257, 258, 259, 260, 261, 262, 263, 264, 265, 266, 267, 268, 269, 270, 271, 272, 273, 274, 275, 276, 277, 278, 279, 280, 281, 282, 283, 284, 285, 286, 287, 288, 289, 290, 291, 292, 293, 294, 295, 296, 297, 298, 299, 300, 301, 302, 303, 304, 305, 306, 307, 308, 309, 310, 311, 312, 313, 314, 315, 316, 317, 318, 319, 320, 321, 322, 323, 324, 325, 326, 327, 328, 329, 330, 331, 332, 333, 334, 335, 336, 337, 338, 339, 340, 341, 342, 343, 344, 345, 346, 347, 348, 349, 350, 351, 352, 353, 354, 355, 356, 357, 358, 359, 360, 361, 362, 363, 364, 365, 366, 367, 368, 369, 370, 371, 372, 373, 374, 375, 376, 377, 378, 379, 380, 381, 382, 383, 384, 385, 386, 387, 388, 389, 390, 391, 392, 393, 394, 395, 396, 397, 398, 399], \"colorscale\": [[0.0, \"#440154\"], [0.1111111111111111, \"#482878\"], [0.2222222222222222, \"#3e4989\"], [0.3333333333333333, \"#31688e\"], [0.4444444444444444, \"#26828e\"], [0.5555555555555556, \"#1f9e89\"], [0.6666666666666666, \"#35b779\"], [0.7777777777777778, \"#6ece58\"], [0.8888888888888888, \"#b5de2b\"], [1.0, \"#fde725\"]], \"opacity\": 0.8, \"size\": 4}, \"mode\": \"markers\", \"type\": \"scatter3d\", \"x\": [0.474109, 0.174629, 0.5209199999999999, 0.399215, 0.540442, 0.8647, 0.42937200000000003, 0.476475, 0.607243, 0.6261359999999999, 0.6357689999999999, 0.536582, 0.074025, 0.14708, 0.464606, 0.486005, 0.47093900000000005, 0.8471870000000001, 0.528259, 0.519946, 0.386684, 0.469483, 0.458412, 0.7841, 0.480129, 0.9311010000000001, 0.61887, 0.8242719999999999, 0.751058, 0.41551400000000005, 0.368724, 0.510159, 0.659302, 0.15853299999999998, 0.92871, 0.117069, 0.510418, 0.513907, 0.621859, 0.511564, 0.849195, 0.834641, 0.450534, 0.2458, 0.741595, 0.195124, 0.47133100000000006, 0.5440470000000001, 0.409331, 0.074266, 0.686602, 0.519888, 0.271848, 0.059648, 0.074799, 0.242298, 0.787285, 0.482846, 0.9057069999999999, 0.5055609999999999, 0.460617, 0.36536599999999997, 0.629007, 0.46334200000000003, 0.783764, 0.540151, 0.13278399999999999, 0.623595, 0.9210870000000001, 0.49965299999999996, 0.502374, 0.702882, 0.8726889999999999, 0.539899, 0.248396, 0.295448, 0.303408, 0.477416, 0.125251, 0.5285449999999999, 0.47257200000000005, 0.218286, 0.547767, 0.514552, 0.442122, 0.638744, 0.441783, 0.671409, 0.633518, 0.367329, 0.129579, 0.45151800000000003, 0.550746, 0.48744799999999994, 0.20604499999999998, 0.599553, 0.509493, 0.166034, 0.42763900000000005, 0.139666, 0.10236, 0.516464, 0.533433, 0.293004, 0.5639770000000001, 0.48225500000000004, 0.8512049999999999, 0.5248, 0.9186219999999999, 0.538736, 0.914141, 0.176956, 0.120081, 0.559416, 0.381486, 0.378538, 0.657615, 0.1787, 0.599957, 0.672099, 0.436172, 0.515352, 0.123403, 0.227037, 0.514145, 0.293614, 0.26903699999999997, 0.133441, 0.5342819999999999, 0.370672, 0.49895100000000003, 0.568454, 0.47183400000000003, 0.851051, 0.55643, 0.346862, 0.537971, 0.45594300000000004, 0.671554, 0.860028, 0.627179, 0.536296, 0.21769299999999997, 0.482941, 0.49965200000000004, 0.524997, 0.54352, 0.096022, 0.670513, 0.551148, 0.475375, 0.541497, 0.8591979999999999, 0.520474, 0.50076, 0.80192, 0.9247, 0.077564, 0.9042610000000001, 0.576513, 0.31252399999999997, 0.157665, 0.121332, 0.9637680000000001, 0.46144700000000005, 0.511729, 0.9597979999999999, 0.920384, 0.530312, 0.674566, 0.907156, 0.8913469999999999, 0.461276, 0.44482299999999997, 0.539357, 0.63275, 0.48625100000000004, 0.455959, 0.315782, 0.503612, 0.500624, 0.42083400000000004, 0.622279, 0.455963, 0.661837, 0.462363, 0.5192, 0.902776, 0.336857, 0.499176, 0.863942, 0.623575, 0.23746399999999998, 0.9465040000000001, 0.336379, 0.140491, 0.715125, 0.728875, 0.30546, 0.961794, 0.738681, 0.612631, 0.798268, 0.47206400000000004, 0.451478, 0.422252, 0.449462, 0.117447, 0.7734800000000001, 0.400807, 0.512682, 0.46325900000000003, 0.503591, 0.8865639999999999, 0.33271100000000003, 0.530772, 0.575336, 0.151124, 0.8421, 0.44521000000000005, 0.38562399999999997, 0.220473, 0.468937, 0.648829, 0.727754, 0.43371499999999996, 0.49074399999999996, 0.28016599999999997, 0.45384399999999997, 0.8512069999999999, 0.618881, 0.431654, 0.45593100000000003, 0.392703, 0.850835, 0.142622, 0.245961, 0.49968500000000005, 0.10154099999999999, 0.45276000000000005, 0.46799799999999997, 0.699095, 0.624204, 0.808802, 0.340821, 0.576113, 0.495933, 0.557449, 0.325194, 0.526455, 0.812729, 0.528061, 0.094125, 0.521201, 0.499698, 0.72431, 0.050207999999999996, 0.273404, 0.501221, 0.743002, 0.24629, 0.900357, 0.401432, 0.536287, 0.794863, 0.471448, 0.373359, 0.8389040000000001, 0.2049, 0.512534, 0.8081050000000001, 0.8009149999999999, 0.092456, 0.11790199999999999, 0.540022, 0.775001, 0.553583, 0.791225, 0.783578, 0.45981700000000003, 0.152039, 0.54052, 0.49724700000000005, 0.37135799999999997, 0.950593, 0.540982, 0.579669, 0.446198, 0.056114, 0.338048, 0.5036069999999999, 0.338358, 0.548521, 0.816943, 0.530408, 0.383269, 0.096719, 0.397323, 0.509112, 0.06488300000000001, 0.436547, 0.477005, 0.40723899999999996, 0.268884, 0.941508, 0.456089, 0.45597, 0.628383, 0.373421, 0.471091, 0.628648, 0.623598, 0.381254, 0.8267540000000001, 0.386102, 0.512261, 0.43773500000000004, 0.531061, 0.503638, 0.8276030000000001, 0.330974, 0.6854979999999999, 0.06426699999999999, 0.437334, 0.7049979999999999, 0.46508999999999995, 0.060479, 0.150032, 0.865409, 0.551063, 0.5999680000000001, 0.5129319999999999, 0.814702, 0.665913, 0.599974, 0.468958, 0.661625, 0.94495, 0.48067299999999996, 0.286342, 0.497515, 0.217894, 0.602961, 0.7917029999999999, 0.630574, 0.622578, 0.21293099999999998, 0.470566, 0.148773, 0.45980200000000004, 0.515955, 0.419073, 0.705937, 0.42590600000000006, 0.534353, 0.311589, 0.44143000000000004, 0.622418, 0.463203, 0.8219420000000001, 0.623568, 0.326916, 0.9730700000000001, 0.500954, 0.190082, 0.503627, 0.752077, 0.45928199999999997, 0.5323760000000001, 0.400079, 0.555569, 0.46516899999999994, 0.6878850000000001, 0.218782, 0.10777300000000001, 0.455978, 0.460707, 0.416837, 0.748454, 0.919342, 0.882619, 0.845824, 0.695952, 0.48639399999999994, 0.647462, 0.849524, 0.903834, 0.49900900000000004, 0.607129, 0.44505900000000004, 0.175447, 0.502297, 0.369396, 0.10661, 0.875923, 0.819418, 0.182627, 0.469211, 0.33308499999999996, 0.131141], \"y\": [0.348725, 0.325405, 0.162368, 0.10991600000000001, 0.24877399999999997, 0.139078, 0.348083, 0.202043, 0.062542, 0.328615, 0.329139, 0.25196, 0.33384400000000003, 0.339458, 0.141596, 0.175679, 0.27360999999999996, 0.183988, 0.137735, 0.347287, 0.339727, 0.21394699999999997, 0.19788599999999998, 0.144858, 0.264833, 0.341771, 0.060286, 0.143286, 0.139966, 0.142817, 0.332156, 0.339008, 0.158457, 0.151693, 0.340173, 0.32566, 0.138587, 0.346086, 0.23569299999999999, 0.180614, 0.262422, 0.34783800000000004, 0.24011999999999997, 0.32810300000000003, 0.340064, 0.33755999999999997, 0.227048, 0.18729, 0.13531700000000002, 0.13526, 0.150046, 0.282825, 0.13786099999999998, 0.156298, 0.334379, 0.33774499999999996, 0.33100100000000005, 0.204202, 0.158607, 0.255826, 0.34956, 0.348023, 0.063636, 0.270717, 0.138495, 0.182327, 0.15407300000000002, 0.093987, 0.135486, 0.27729499999999996, 0.27823400000000004, 0.325889, 0.139005, 0.27169299999999996, 0.142836, 0.151897, 0.140517, 0.33714299999999997, 0.333084, 0.213575, 0.326156, 0.13536199999999998, 0.154507, 0.265801, 0.326569, 0.143234, 0.240123, 0.140825, 0.346806, 0.14920799999999998, 0.33274499999999996, 0.338913, 0.15793, 0.227868, 0.151575, 0.145775, 0.138154, 0.15800799999999998, 0.240127, 0.342136, 0.341459, 0.16237200000000002, 0.23566700000000002, 0.145393, 0.14005, 0.33761599999999997, 0.212327, 0.157674, 0.142198, 0.340519, 0.142275, 0.158246, 0.142457, 0.23567399999999997, 0.343308, 0.139652, 0.24015300000000003, 0.341192, 0.032813999999999996, 0.136416, 0.235675, 0.156789, 0.341038, 0.158389, 0.156602, 0.139129, 0.343073, 0.1559, 0.20819899999999997, 0.2756, 0.155888, 0.155914, 0.21790500000000002, 0.340163, 0.253228, 0.32700500000000005, 0.236303, 0.25938, 0.15018800000000002, 0.14084100000000002, 0.228127, 0.240117, 0.134838, 0.14368599999999998, 0.350254, 0.143562, 0.167502, 0.156283, 0.325916, 0.157108, 0.271069, 0.17873, 0.153093, 0.268624, 0.162384, 0.34193, 0.34942399999999996, 0.34242, 0.140724, 0.329467, 0.333326, 0.146258, 0.3354, 0.338569, 0.20244, 0.166783, 0.332708, 0.156912, 0.235666, 0.14141199999999998, 0.339409, 0.15723900000000002, 0.194491, 0.158578, 0.273171, 0.15312, 0.156559, 0.16433499999999998, 0.337859, 0.27479000000000003, 0.163726, 0.15481199999999998, 0.325759, 0.203806, 0.140449, 0.16858800000000002, 0.200452, 0.335955, 0.136214, 0.262938, 0.14251, 0.05022, 0.338432, 0.34175700000000003, 0.33855799999999997, 0.32753899999999997, 0.329404, 0.143361, 0.142751, 0.340507, 0.349196, 0.346816, 0.341965, 0.152602, 0.32621300000000003, 0.240129, 0.178801, 0.13484200000000002, 0.328785, 0.172245, 0.208515, 0.326766, 0.2806, 0.346105, 0.153568, 0.271281, 0.32597800000000005, 0.157526, 0.335175, 0.064182, 0.038002, 0.142486, 0.24184899999999998, 0.14888099999999999, 0.147529, 0.343097, 0.181085, 0.32604099999999997, 0.207564, 0.273226, 0.079165, 0.15642, 0.171298, 0.027145999999999997, 0.245525, 0.140882, 0.139575, 0.288459, 0.343916, 0.334418, 0.147758, 0.141213, 0.23569299999999999, 0.15740099999999999, 0.326521, 0.235679, 0.178747, 0.330383, 0.137372, 0.269712, 0.334158, 0.17428, 0.136476, 0.15653, 0.327741, 0.1441, 0.145428, 0.326932, 0.267311, 0.151016, 0.144071, 0.333775, 0.34065700000000004, 0.25717399999999996, 0.347111, 0.246432, 0.249623, 0.343912, 0.146316, 0.254429, 0.346878, 0.331142, 0.333899, 0.346879, 0.176722, 0.34722800000000004, 0.258263, 0.136824, 0.1533, 0.16832, 0.349738, 0.19528199999999998, 0.257732, 0.242773, 0.33870300000000003, 0.16303399999999998, 0.348528, 0.182542, 0.154569, 0.150861, 0.30216, 0.15642, 0.15041600000000002, 0.333152, 0.24895799999999998, 0.143729, 0.325439, 0.10965899999999999, 0.329468, 0.335339, 0.20495500000000003, 0.24011300000000002, 0.334119, 0.333057, 0.15824100000000002, 0.189313, 0.181308, 0.186202, 0.252678, 0.188377, 0.277996, 0.029843, 0.240141, 0.3468, 0.067804, 0.144301, 0.204399, 0.33675700000000003, 0.21265599999999998, 0.338179, 0.14072300000000001, 0.332327, 0.331573, 0.156521, 0.32824699999999996, 0.231244, 0.156445, 0.252652, 0.341333, 0.261421, 0.091399, 0.32589, 0.136812, 0.333823, 0.033672, 0.33870500000000003, 0.32556599999999997, 0.341579, 0.213923, 0.140672, 0.268968, 0.348948, 0.32907600000000004, 0.34317800000000004, 0.19780999999999999, 0.07599500000000001, 0.342342, 0.248827, 0.19564700000000002, 0.269818, 0.27968000000000004, 0.346182, 0.348086, 0.333795, 0.162358, 0.330642, 0.066384, 0.051095999999999996, 0.26576900000000003, 0.329416, 0.057157000000000006, 0.33765100000000003, 0.33514, 0.26182, 0.332413, 0.25685, 0.347285, 0.22001199999999999, 0.149225, 0.052609, 0.24012199999999997, 0.257902, 0.346671, 0.13965, 0.140943, 0.239281, 0.342568, 0.348258, 0.14339200000000002, 0.341417, 0.13518, 0.135666, 0.333529, 0.153337, 0.33227199999999996, 0.266835, 0.332879, 0.23579699999999998, 0.108688, 0.24012199999999997, 0.15896500000000002, 0.183538, 0.193374, 0.142295, 0.325703, 0.15926600000000002, 0.32669699999999996, 0.183027, 0.34205599999999997, 0.332815], \"z\": [0.14130399999999999, 0.120379, 0.250853, 0.152935, 0.13095299999999999, 0.219619, 0.172811, 0.600757, 0.193946, 0.176371, 0.18451099999999998, 0.43436400000000003, 0.26976300000000003, 0.252899, 0.265108, 0.439669, 0.46141000000000004, 0.262381, 0.19858599999999998, 0.12778699999999998, 0.25101799999999996, 0.51346, 0.325735, 0.31343499999999996, 0.631185, 0.235132, 0.153797, 0.297118, 0.234593, 0.288045, 0.23817199999999997, 0.256496, 0.19101500000000002, 0.26050300000000004, 0.247981, 0.128229, 0.21179099999999998, 0.19880699999999998, 0.728527, 0.056296000000000006, 0.25503400000000004, 0.176279, 0.713061, 0.16822, 0.24868800000000002, 0.26720900000000003, 0.536493, 0.164414, 0.147532, 0.147636, 0.274347, 0.11104100000000001, 0.20039400000000002, 0.219113, 0.279823, 0.265839, 0.216698, 0.676643, 0.173631, 0.302892, 0.153372, 0.134632, 0.148401, 0.436645, 0.139539, 0.354783, 0.240583, 0.15348299999999998, 0.162326, 0.775029, 0.136936, 0.132463, 0.21847800000000003, 0.362072, 0.13592200000000002, 0.258876, 0.244696, 0.270509, 0.25549, 0.532838, 0.11656199999999999, 0.159795, 0.2372, 0.134819, 0.114343, 0.296018, 0.6416310000000001, 0.250724, 0.189749, 0.139576, 0.249113, 0.11021600000000001, 0.19789, 0.726191, 0.142554, 0.30642600000000003, 0.20508, 0.196634, 0.739323, 0.231606, 0.11248, 0.22665, 0.717781, 0.13711500000000001, 0.236077, 0.266957, 0.257792, 0.201258, 0.27670300000000003, 0.24514699999999998, 0.278133, 0.193511, 0.28109, 0.705943, 0.22195, 0.22848200000000002, 0.722982, 0.23952600000000002, 0.16964100000000001, 0.17796199999999998, 0.657222, 0.091778, 0.240783, 0.19166, 0.127852, 0.22006900000000001, 0.22385100000000002, 0.224399, 0.462271, 0.172346, 0.101605, 0.22447399999999998, 0.542797, 0.248011, 0.062153, 0.11196600000000001, 0.055174, 0.209162, 0.27326500000000004, 0.251131, 0.254748, 0.698331, 0.14996700000000002, 0.30442600000000003, 0.776507, 0.302122, 0.275902, 0.219333, 0.132892, 0.15929400000000002, 0.5105350000000001, 0.323309, 0.24921, 0.557229, 0.26158000000000003, 0.233724, 0.155435, 0.22919499999999998, 0.137916, 0.189564, 0.26016300000000003, 0.302532, 0.107795, 0.197346, 0.036338, 0.32468800000000003, 0.18943, 0.211524, 0.6966319999999999, 0.26176900000000003, 0.253716, 0.20720700000000003, 0.394536, 0.17309000000000002, 0.09136799999999999, 0.248854, 0.084512, 0.144371, 0.265029, 0.7657, 0.283378, 0.234577, 0.130212, 0.266865, 0.243635, 0.348465, 0.647717, 0.279704, 0.17434000000000002, 0.130928, 0.282539, 0.175709, 0.260669, 0.22369699999999998, 0.259784, 0.159407, 0.188668, 0.29846999999999996, 0.28673899999999997, 0.1656, 0.158331, 0.1896, 0.23343200000000003, 0.253089, 0.116246, 0.742001, 0.085013, 0.150917, 0.179097, 0.035852999999999996, 0.7060420000000001, 0.147206, 0.801345, 0.19887, 0.24493, 0.50563, 0.133902, 0.264412, 0.285533, 0.156433, 0.121859, 0.28170100000000003, 0.506574, 0.283085, 0.29330700000000004, 0.22374699999999997, 0.490633, 0.117057, 0.03707, 0.253458, 0.142753, 0.217718, 0.194508, 0.141488, 0.149325, 0.251467, 0.22695, 0.720284, 0.216704, 0.28078400000000003, 0.291428, 0.25804, 0.7469439999999999, 0.205025, 0.142969, 0.68612, 0.468654, 0.204932, 0.192839, 0.045435, 0.276095, 0.42589799999999994, 0.178647, 0.153824, 0.699134, 0.312373, 0.29286999999999996, 0.149925, 0.673006, 0.14181, 0.311542, 0.268941, 0.244024, 0.235806, 0.12629, 0.2711, 0.256168, 0.217173, 0.302124, 0.24117800000000003, 0.124105, 0.219356, 0.270807, 0.123707, 0.13095299999999999, 0.127379, 0.036856, 0.184619, 0.247435, 0.130905, 0.15066500000000002, 0.346364, 0.701964, 0.199543, 0.24150300000000002, 0.274491, 0.139511, 0.080621, 0.223915, 0.267567, 0.773957, 0.21766999999999997, 0.236304, 0.257176, 0.287091, 0.305182, 0.124453, 0.154226, 0.189531, 0.28384299999999996, 0.06913, 0.705865, 0.275138, 0.255067, 0.1892, 0.269953, 0.132279, 0.177806, 0.151043, 0.5335989999999999, 0.252911, 0.15055, 0.731949, 0.189942, 0.14604, 0.316021, 0.110055, 0.273446, 0.032525, 0.262924, 0.248587, 0.24156999999999998, 0.22703, 0.21639899999999998, 0.17072, 0.45857299999999995, 0.21717399999999998, 0.191027, 0.23875100000000002, 0.125849, 0.157675, 0.132365, 0.184452, 0.26971999999999996, 0.151596, 0.258754, 0.126942, 0.22810300000000003, 0.036982, 0.247602, 0.130928, 0.161281, 0.183504, 0.22328, 0.26011999999999996, 0.17302, 0.229927, 0.063568, 0.15693, 0.31952800000000003, 0.131801, 0.19784000000000002, 0.172932, 0.106958, 0.203956, 0.20965799999999998, 0.146072, 0.13781300000000002, 0.10330399999999999, 0.188907, 0.183329, 0.10934200000000001, 0.143438, 0.311553, 0.242903, 0.739925, 0.183506, 0.346502, 0.280434, 0.122749, 0.659537, 0.133917, 0.19155999999999998, 0.228334, 0.25259699999999996, 0.142288, 0.228186, 0.136873, 0.299064, 0.112882, 0.157112, 0.16534300000000002, 0.264193, 0.146067, 0.240521, 0.25447, 0.252103, 0.066184, 0.159236, 0.6360439999999999, 0.184031, 0.513837, 0.26358400000000004, 0.278045, 0.119209, 0.180446, 0.14587999999999998, 0.5087619999999999, 0.232393, 0.250431]}],                        {\"scene\": {\"xaxis\": {\"exponentformat\": \"e\", \"showexponent\": \"all\", \"title\": {\"text\": \"0th\"}, \"type\": \"linear\"}, \"yaxis\": {\"exponentformat\": \"e\", \"showexponent\": \"all\", \"title\": {\"text\": \"1st\"}, \"type\": \"linear\"}, \"zaxis\": {\"exponentformat\": \"e\", \"showexponent\": \"all\", \"title\": {\"text\": \"2nd\"}, \"type\": \"linear\"}}, \"template\": {\"data\": {\"bar\": [{\"error_x\": {\"color\": \"#2a3f5f\"}, \"error_y\": {\"color\": \"#2a3f5f\"}, \"marker\": {\"line\": {\"color\": \"#E5ECF6\", \"width\": 0.5}}, \"type\": \"bar\"}], \"barpolar\": [{\"marker\": {\"line\": {\"color\": \"#E5ECF6\", \"width\": 0.5}}, \"type\": \"barpolar\"}], \"carpet\": [{\"aaxis\": {\"endlinecolor\": \"#2a3f5f\", \"gridcolor\": \"white\", \"linecolor\": \"white\", \"minorgridcolor\": \"white\", \"startlinecolor\": \"#2a3f5f\"}, \"baxis\": {\"endlinecolor\": \"#2a3f5f\", \"gridcolor\": \"white\", \"linecolor\": \"white\", \"minorgridcolor\": \"white\", \"startlinecolor\": \"#2a3f5f\"}, \"type\": \"carpet\"}], \"choropleth\": [{\"colorbar\": {\"outlinewidth\": 0, \"ticks\": \"\"}, \"type\": \"choropleth\"}], \"contour\": [{\"colorbar\": {\"outlinewidth\": 0, \"ticks\": \"\"}, \"colorscale\": [[0.0, \"#0d0887\"], [0.1111111111111111, \"#46039f\"], [0.2222222222222222, \"#7201a8\"], [0.3333333333333333, \"#9c179e\"], [0.4444444444444444, \"#bd3786\"], [0.5555555555555556, \"#d8576b\"], [0.6666666666666666, \"#ed7953\"], [0.7777777777777778, \"#fb9f3a\"], [0.8888888888888888, \"#fdca26\"], [1.0, \"#f0f921\"]], \"type\": \"contour\"}], \"contourcarpet\": [{\"colorbar\": {\"outlinewidth\": 0, \"ticks\": \"\"}, \"type\": \"contourcarpet\"}], \"heatmap\": [{\"colorbar\": {\"outlinewidth\": 0, \"ticks\": \"\"}, \"colorscale\": [[0.0, \"#0d0887\"], [0.1111111111111111, \"#46039f\"], [0.2222222222222222, \"#7201a8\"], [0.3333333333333333, \"#9c179e\"], [0.4444444444444444, \"#bd3786\"], [0.5555555555555556, \"#d8576b\"], [0.6666666666666666, \"#ed7953\"], [0.7777777777777778, \"#fb9f3a\"], [0.8888888888888888, \"#fdca26\"], [1.0, \"#f0f921\"]], \"type\": \"heatmap\"}], \"heatmapgl\": [{\"colorbar\": {\"outlinewidth\": 0, \"ticks\": \"\"}, \"colorscale\": [[0.0, \"#0d0887\"], [0.1111111111111111, \"#46039f\"], [0.2222222222222222, \"#7201a8\"], [0.3333333333333333, \"#9c179e\"], [0.4444444444444444, \"#bd3786\"], [0.5555555555555556, \"#d8576b\"], [0.6666666666666666, \"#ed7953\"], [0.7777777777777778, \"#fb9f3a\"], [0.8888888888888888, \"#fdca26\"], [1.0, \"#f0f921\"]], \"type\": \"heatmapgl\"}], \"histogram\": [{\"marker\": {\"colorbar\": {\"outlinewidth\": 0, \"ticks\": \"\"}}, \"type\": \"histogram\"}], \"histogram2d\": [{\"colorbar\": {\"outlinewidth\": 0, \"ticks\": \"\"}, \"colorscale\": [[0.0, \"#0d0887\"], [0.1111111111111111, \"#46039f\"], [0.2222222222222222, \"#7201a8\"], [0.3333333333333333, \"#9c179e\"], [0.4444444444444444, \"#bd3786\"], [0.5555555555555556, \"#d8576b\"], [0.6666666666666666, \"#ed7953\"], [0.7777777777777778, \"#fb9f3a\"], [0.8888888888888888, \"#fdca26\"], [1.0, \"#f0f921\"]], \"type\": \"histogram2d\"}], \"histogram2dcontour\": [{\"colorbar\": {\"outlinewidth\": 0, \"ticks\": \"\"}, \"colorscale\": [[0.0, \"#0d0887\"], [0.1111111111111111, \"#46039f\"], [0.2222222222222222, \"#7201a8\"], [0.3333333333333333, \"#9c179e\"], [0.4444444444444444, \"#bd3786\"], [0.5555555555555556, \"#d8576b\"], [0.6666666666666666, \"#ed7953\"], [0.7777777777777778, \"#fb9f3a\"], [0.8888888888888888, \"#fdca26\"], [1.0, \"#f0f921\"]], \"type\": \"histogram2dcontour\"}], \"mesh3d\": [{\"colorbar\": {\"outlinewidth\": 0, \"ticks\": \"\"}, \"type\": \"mesh3d\"}], \"parcoords\": [{\"line\": {\"colorbar\": {\"outlinewidth\": 0, \"ticks\": \"\"}}, \"type\": \"parcoords\"}], \"pie\": [{\"automargin\": true, \"type\": \"pie\"}], \"scatter\": [{\"marker\": {\"colorbar\": {\"outlinewidth\": 0, \"ticks\": \"\"}}, \"type\": \"scatter\"}], \"scatter3d\": [{\"line\": {\"colorbar\": {\"outlinewidth\": 0, \"ticks\": \"\"}}, \"marker\": {\"colorbar\": {\"outlinewidth\": 0, \"ticks\": \"\"}}, \"type\": \"scatter3d\"}], \"scattercarpet\": [{\"marker\": {\"colorbar\": {\"outlinewidth\": 0, \"ticks\": \"\"}}, \"type\": \"scattercarpet\"}], \"scattergeo\": [{\"marker\": {\"colorbar\": {\"outlinewidth\": 0, \"ticks\": \"\"}}, \"type\": \"scattergeo\"}], \"scattergl\": [{\"marker\": {\"colorbar\": {\"outlinewidth\": 0, \"ticks\": \"\"}}, \"type\": \"scattergl\"}], \"scattermapbox\": [{\"marker\": {\"colorbar\": {\"outlinewidth\": 0, \"ticks\": \"\"}}, \"type\": \"scattermapbox\"}], \"scatterpolar\": [{\"marker\": {\"colorbar\": {\"outlinewidth\": 0, \"ticks\": \"\"}}, \"type\": \"scatterpolar\"}], \"scatterpolargl\": [{\"marker\": {\"colorbar\": {\"outlinewidth\": 0, \"ticks\": \"\"}}, \"type\": \"scatterpolargl\"}], \"scatterternary\": [{\"marker\": {\"colorbar\": {\"outlinewidth\": 0, \"ticks\": \"\"}}, \"type\": \"scatterternary\"}], \"surface\": [{\"colorbar\": {\"outlinewidth\": 0, \"ticks\": \"\"}, \"colorscale\": [[0.0, \"#0d0887\"], [0.1111111111111111, \"#46039f\"], [0.2222222222222222, \"#7201a8\"], [0.3333333333333333, \"#9c179e\"], [0.4444444444444444, \"#bd3786\"], [0.5555555555555556, \"#d8576b\"], [0.6666666666666666, \"#ed7953\"], [0.7777777777777778, \"#fb9f3a\"], [0.8888888888888888, \"#fdca26\"], [1.0, \"#f0f921\"]], \"type\": \"surface\"}], \"table\": [{\"cells\": {\"fill\": {\"color\": \"#EBF0F8\"}, \"line\": {\"color\": \"white\"}}, \"header\": {\"fill\": {\"color\": \"#C8D4E3\"}, \"line\": {\"color\": \"white\"}}, \"type\": \"table\"}]}, \"layout\": {\"annotationdefaults\": {\"arrowcolor\": \"#2a3f5f\", \"arrowhead\": 0, \"arrowwidth\": 1}, \"autotypenumbers\": \"strict\", \"coloraxis\": {\"colorbar\": {\"outlinewidth\": 0, \"ticks\": \"\"}}, \"colorscale\": {\"diverging\": [[0, \"#8e0152\"], [0.1, \"#c51b7d\"], [0.2, \"#de77ae\"], [0.3, \"#f1b6da\"], [0.4, \"#fde0ef\"], [0.5, \"#f7f7f7\"], [0.6, \"#e6f5d0\"], [0.7, \"#b8e186\"], [0.8, \"#7fbc41\"], [0.9, \"#4d9221\"], [1, \"#276419\"]], \"sequential\": [[0.0, \"#0d0887\"], [0.1111111111111111, \"#46039f\"], [0.2222222222222222, \"#7201a8\"], [0.3333333333333333, \"#9c179e\"], [0.4444444444444444, \"#bd3786\"], [0.5555555555555556, \"#d8576b\"], [0.6666666666666666, \"#ed7953\"], [0.7777777777777778, \"#fb9f3a\"], [0.8888888888888888, \"#fdca26\"], [1.0, \"#f0f921\"]], \"sequentialminus\": [[0.0, \"#0d0887\"], [0.1111111111111111, \"#46039f\"], [0.2222222222222222, \"#7201a8\"], [0.3333333333333333, \"#9c179e\"], [0.4444444444444444, \"#bd3786\"], [0.5555555555555556, \"#d8576b\"], [0.6666666666666666, \"#ed7953\"], [0.7777777777777778, \"#fb9f3a\"], [0.8888888888888888, \"#fdca26\"], [1.0, \"#f0f921\"]]}, \"colorway\": [\"#636efa\", \"#EF553B\", \"#00cc96\", \"#ab63fa\", \"#FFA15A\", \"#19d3f3\", \"#FF6692\", \"#B6E880\", \"#FF97FF\", \"#FECB52\"], \"font\": {\"color\": \"#2a3f5f\"}, \"geo\": {\"bgcolor\": \"white\", \"lakecolor\": \"white\", \"landcolor\": \"#E5ECF6\", \"showlakes\": true, \"showland\": true, \"subunitcolor\": \"white\"}, \"hoverlabel\": {\"align\": \"left\"}, \"hovermode\": \"closest\", \"mapbox\": {\"style\": \"light\"}, \"paper_bgcolor\": \"white\", \"plot_bgcolor\": \"#E5ECF6\", \"polar\": {\"angularaxis\": {\"gridcolor\": \"white\", \"linecolor\": \"white\", \"ticks\": \"\"}, \"bgcolor\": \"#E5ECF6\", \"radialaxis\": {\"gridcolor\": \"white\", \"linecolor\": \"white\", \"ticks\": \"\"}}, \"scene\": {\"xaxis\": {\"backgroundcolor\": \"#E5ECF6\", \"gridcolor\": \"white\", \"gridwidth\": 2, \"linecolor\": \"white\", \"showbackground\": true, \"ticks\": \"\", \"zerolinecolor\": \"white\"}, \"yaxis\": {\"backgroundcolor\": \"#E5ECF6\", \"gridcolor\": \"white\", \"gridwidth\": 2, \"linecolor\": \"white\", \"showbackground\": true, \"ticks\": \"\", \"zerolinecolor\": \"white\"}, \"zaxis\": {\"backgroundcolor\": \"#E5ECF6\", \"gridcolor\": \"white\", \"gridwidth\": 2, \"linecolor\": \"white\", \"showbackground\": true, \"ticks\": \"\", \"zerolinecolor\": \"white\"}}, \"shapedefaults\": {\"line\": {\"color\": \"#2a3f5f\"}}, \"ternary\": {\"aaxis\": {\"gridcolor\": \"white\", \"linecolor\": \"white\", \"ticks\": \"\"}, \"baxis\": {\"gridcolor\": \"white\", \"linecolor\": \"white\", \"ticks\": \"\"}, \"bgcolor\": \"#E5ECF6\", \"caxis\": {\"gridcolor\": \"white\", \"linecolor\": \"white\", \"ticks\": \"\"}}, \"title\": {\"x\": 0.05}, \"xaxis\": {\"automargin\": true, \"gridcolor\": \"white\", \"linecolor\": \"white\", \"ticks\": \"\", \"title\": {\"standoff\": 15}, \"zerolinecolor\": \"white\", \"zerolinewidth\": 2}, \"yaxis\": {\"automargin\": true, \"gridcolor\": \"white\", \"linecolor\": \"white\", \"ticks\": \"\", \"title\": {\"standoff\": 15}, \"zerolinecolor\": \"white\", \"zerolinewidth\": 2}}}},                        {\"responsive\": true}                    ).then(function(){\n",
              "                            \n",
              "var gd = document.getElementById('70e6ce93-1098-4b7f-9200-628c43cfce84');\n",
              "var x = new MutationObserver(function (mutations, observer) {{\n",
              "        var display = window.getComputedStyle(gd).display;\n",
              "        if (!display || display === 'none') {{\n",
              "            console.log([gd, 'removed!']);\n",
              "            Plotly.purge(gd);\n",
              "            observer.disconnect();\n",
              "        }}\n",
              "}});\n",
              "\n",
              "// Listen for the removal of the full notebook cells\n",
              "var notebookContainer = gd.closest('#notebook-container');\n",
              "if (notebookContainer) {{\n",
              "    x.observe(notebookContainer, {childList: true});\n",
              "}}\n",
              "\n",
              "// Listen for the clearing of the current output cell\n",
              "var outputEl = gd.closest('.output');\n",
              "if (outputEl) {{\n",
              "    x.observe(outputEl, {childList: true});\n",
              "}}\n",
              "\n",
              "                        })                };                            </script>        </div>\n",
              "</body>\n",
              "</html>"
            ]
          },
          "metadata": {
            "tags": []
          }
        }
      ]
    },
    {
      "cell_type": "code",
      "metadata": {
        "colab": {
          "base_uri": "https://localhost:8080/",
          "height": 542
        },
        "id": "ZrggGzB75yP8",
        "outputId": "bf0ed654-b0f2-4b97-8e13-fd123c21bb01"
      },
      "source": [
        "from gtda.plotting import plot_point_cloud,plot_diagram\n",
        "plot=plot_point_cloud(df.query('target == \"human_arms_out0\"')[[\"x\", \"y\", \"z\"]].values)\n",
        "plot"
      ],
      "execution_count": null,
      "outputs": [
        {
          "output_type": "display_data",
          "data": {
            "text/html": [
              "<html>\n",
              "<head><meta charset=\"utf-8\" /></head>\n",
              "<body>\n",
              "    <div>            <script src=\"https://cdnjs.cloudflare.com/ajax/libs/mathjax/2.7.5/MathJax.js?config=TeX-AMS-MML_SVG\"></script><script type=\"text/javascript\">if (window.MathJax) {MathJax.Hub.Config({SVG: {font: \"STIX-Web\"}});}</script>                <script type=\"text/javascript\">window.PlotlyConfig = {MathJaxConfig: 'local'};</script>\n",
              "        <script src=\"https://cdn.plot.ly/plotly-latest.min.js\"></script>                <div id=\"20bbd913-c717-433d-adf4-a02970b54ee5\" class=\"plotly-graph-div\" style=\"height:525px; width:100%;\"></div>            <script type=\"text/javascript\">                                    window.PLOTLYENV=window.PLOTLYENV || {};                                    if (document.getElementById(\"20bbd913-c717-433d-adf4-a02970b54ee5\")) {                    Plotly.newPlot(                        \"20bbd913-c717-433d-adf4-a02970b54ee5\",                        [{\"marker\": {\"color\": [0, 1, 2, 3, 4, 5, 6, 7, 8, 9, 10, 11, 12, 13, 14, 15, 16, 17, 18, 19, 20, 21, 22, 23, 24, 25, 26, 27, 28, 29, 30, 31, 32, 33, 34, 35, 36, 37, 38, 39, 40, 41, 42, 43, 44, 45, 46, 47, 48, 49, 50, 51, 52, 53, 54, 55, 56, 57, 58, 59, 60, 61, 62, 63, 64, 65, 66, 67, 68, 69, 70, 71, 72, 73, 74, 75, 76, 77, 78, 79, 80, 81, 82, 83, 84, 85, 86, 87, 88, 89, 90, 91, 92, 93, 94, 95, 96, 97, 98, 99, 100, 101, 102, 103, 104, 105, 106, 107, 108, 109, 110, 111, 112, 113, 114, 115, 116, 117, 118, 119, 120, 121, 122, 123, 124, 125, 126, 127, 128, 129, 130, 131, 132, 133, 134, 135, 136, 137, 138, 139, 140, 141, 142, 143, 144, 145, 146, 147, 148, 149, 150, 151, 152, 153, 154, 155, 156, 157, 158, 159, 160, 161, 162, 163, 164, 165, 166, 167, 168, 169, 170, 171, 172, 173, 174, 175, 176, 177, 178, 179, 180, 181, 182, 183, 184, 185, 186, 187, 188, 189, 190, 191, 192, 193, 194, 195, 196, 197, 198, 199, 200, 201, 202, 203, 204, 205, 206, 207, 208, 209, 210, 211, 212, 213, 214, 215, 216, 217, 218, 219, 220, 221, 222, 223, 224, 225, 226, 227, 228, 229, 230, 231, 232, 233, 234, 235, 236, 237, 238, 239, 240, 241, 242, 243, 244, 245, 246, 247, 248, 249, 250, 251, 252, 253, 254, 255, 256, 257, 258, 259, 260, 261, 262, 263, 264, 265, 266, 267, 268, 269, 270, 271, 272, 273, 274, 275, 276, 277, 278, 279, 280, 281, 282, 283, 284, 285, 286, 287, 288, 289, 290, 291, 292, 293, 294, 295, 296, 297, 298, 299, 300, 301, 302, 303, 304, 305, 306, 307, 308, 309, 310, 311, 312, 313, 314, 315, 316, 317, 318, 319, 320, 321, 322, 323, 324, 325, 326, 327, 328, 329, 330, 331, 332, 333, 334, 335, 336, 337, 338, 339, 340, 341, 342, 343, 344, 345, 346, 347, 348, 349, 350, 351, 352, 353, 354, 355, 356, 357, 358, 359, 360, 361, 362, 363, 364, 365, 366, 367, 368, 369, 370, 371, 372, 373, 374, 375, 376, 377, 378, 379, 380, 381, 382, 383, 384, 385, 386, 387, 388, 389, 390, 391, 392, 393, 394, 395, 396, 397, 398, 399], \"colorscale\": [[0.0, \"#440154\"], [0.1111111111111111, \"#482878\"], [0.2222222222222222, \"#3e4989\"], [0.3333333333333333, \"#31688e\"], [0.4444444444444444, \"#26828e\"], [0.5555555555555556, \"#1f9e89\"], [0.6666666666666666, \"#35b779\"], [0.7777777777777778, \"#6ece58\"], [0.8888888888888888, \"#b5de2b\"], [1.0, \"#fde725\"]], \"opacity\": 0.8, \"size\": 4}, \"mode\": \"markers\", \"type\": \"scatter3d\", \"x\": [0.421987, 0.403924, 0.463246, 0.504695, 0.417713, 0.531636, 0.4515, 0.393384, 0.5047470000000001, 0.439916, 0.48177200000000003, 0.485675, 0.5227149999999999, 0.5356890000000001, 0.5069140000000001, 0.49103900000000006, 0.385484, 0.5357350000000001, 0.42169399999999996, 0.516208, 0.389246, 0.649051, 0.538866, 0.439669, 0.45027799999999996, 0.49084300000000003, 0.524424, 0.5213270000000001, 0.423437, 0.463246, 0.46449799999999997, 0.8389129999999999, 0.421383, 0.447158, 0.416192, 0.46329799999999993, 0.43825299999999995, 0.5047470000000001, 0.47287299999999993, 0.514614, 0.45838, 0.5047470000000001, 0.413685, 0.506025, 0.439522, 0.493443, 0.385484, 0.49892200000000003, 0.42169399999999996, 0.54106, 0.33181700000000003, 0.54106, 0.45892700000000003, 0.463246, 0.529612, 0.216635, 0.815455, 0.401831, 0.5346, 0.511447, 0.423573, 0.463246, 0.553926, 0.679744, 0.40996499999999997, 0.5151220000000001, 0.463246, 0.522995, 0.408, 0.405211, 0.7065739999999999, 0.162803, 0.43605200000000005, 0.39067199999999996, 0.462871, 0.47808999999999996, 0.39021999999999996, 0.386745, 0.828843, 0.54106, 0.41633100000000006, 0.7143470000000001, 0.436008, 0.385484, 0.699054, 0.45560100000000003, 0.409348, 0.54106, 0.632015, 0.5042979999999999, 0.385484, 0.385484, 0.463246, 0.385484, 0.32732, 0.385484, 0.390177, 0.416376, 0.416109, 0.533963, 0.066133, 0.538441, 0.776459, 0.54106, 0.47091700000000003, 0.4945, 0.40918499999999997, 0.42230100000000004, 0.48689399999999994, 0.25103600000000004, 0.2484, 0.492384, 0.458874, 0.43882899999999997, 0.417092, 0.504695, 0.483167, 0.75615, 0.535597, 0.552214, 0.483996, 0.593495, 0.48550299999999996, 0.54106, 0.423634, 0.42179700000000003, 0.504695, 0.662099, 0.43523100000000003, 0.42650600000000005, 0.43661300000000003, 0.479141, 0.728209, 0.403607, 0.515886, 0.449607, 0.275107, 0.6839529999999999, 0.523476, 0.795609, 0.416117, 0.54106, 0.388871, 0.520502, 0.39263899999999996, 0.51876, 0.460003, 0.38788, 0.42179700000000003, 0.16852, 0.487788, 0.240655, 0.432962, 0.429982, 0.51132, 0.42973, 0.39374499999999996, 0.385484, 0.46148199999999995, 0.072742, 0.385484, 0.397011, 0.39067199999999996, 0.54106, 0.409414, 0.468571, 0.54106, 0.533926, 0.463246, 0.516734, 0.24922399999999997, 0.385484, 0.467875, 0.387525, 0.8555200000000001, 0.810283, 0.47521800000000003, 0.7448229999999999, 0.522748, 0.526449, 0.401914, 0.436229, 0.390918, 0.34860399999999997, 0.399981, 0.19331600000000002, 0.49632, 0.8562, 0.469138, 0.517265, 0.446216, 0.41708599999999996, 0.16509300000000002, 0.143393, 0.389524, 0.385484, 0.475546, 0.47841999999999996, 0.385484, 0.535695, 0.458589, 0.491125, 0.105689, 0.527754, 0.5369970000000001, 0.5212600000000001, 0.481045, 0.465737, 0.22666999999999998, 0.43129300000000004, 0.450463, 0.413362, 0.399564, 0.15734, 0.398769, 0.5047470000000001, 0.47227600000000003, 0.47031000000000006, 0.42890200000000006, 0.494287, 0.499654, 0.128237, 0.385484, 0.489696, 0.172035, 0.5166430000000001, 0.503918, 0.606104, 0.385484, 0.40563299999999997, 0.41588800000000004, 0.6051770000000001, 0.414203, 0.54106, 0.6235189999999999, 0.42803900000000006, 0.504695, 0.407156, 0.428957, 0.474025, 0.42960600000000004, 0.787589, 0.41775500000000004, 0.662954, 0.460592, 0.483996, 0.447367, 0.5173770000000001, 0.0663, 0.42787600000000003, 0.537821, 0.385484, 0.45754799999999995, 0.513262, 0.42335100000000003, 0.451646, 0.472186, 0.730332, 0.483996, 0.454049, 0.50476, 0.21894899999999998, 0.787134, 0.54106, 0.405494, 0.403764, 0.806106, 0.412707, 0.54106, 0.44250600000000007, 0.524992, 0.25421, 0.385484, 0.510672, 0.12418699999999999, 0.47546000000000005, 0.387279, 0.515109, 0.463246, 0.43776800000000005, 0.836556, 0.473821, 0.54106, 0.453388, 0.471341, 0.17971900000000002, 0.614879, 0.248523, 0.716901, 0.43599499999999997, 0.48126800000000003, 0.512548, 0.54106, 0.54106, 0.387322, 0.171806, 0.5047470000000001, 0.41730500000000004, 0.5278930000000001, 0.405469, 0.057209, 0.19472899999999999, 0.495633, 0.225931, 0.402604, 0.48861800000000005, 0.504695, 0.410866, 0.54106, 0.055188, 0.48331999999999997, 0.385484, 0.406881, 0.33210300000000004, 0.431296, 0.30020399999999997, 0.488864, 0.405848, 0.525439, 0.537242, 0.463246, 0.47391000000000005, 0.577213, 0.385484, 0.42602799999999996, 0.504695, 0.47472, 0.40433, 0.22147600000000003, 0.316806, 0.385484, 0.502703, 0.109543, 0.54106, 0.46329799999999993, 0.504681, 0.480019, 0.531118, 0.437695, 0.501668, 0.770215, 0.512813, 0.3936, 0.485022, 0.386835, 0.459883, 0.39096, 0.408683, 0.463246, 0.390171, 0.487231, 0.446449, 0.61747, 0.42179700000000003, 0.535924, 0.34447300000000003, 0.303666, 0.459002, 0.339673, 0.4931, 0.513048, 0.466001, 0.204788, 0.497266, 0.409836, 0.40416799999999997, 0.41548, 0.48681499999999994, 0.43077600000000005, 0.5034529999999999, 0.316336, 0.54106, 0.412127, 0.453535, 0.43433599999999994, 0.46284, 0.6930310000000001, 0.424441, 0.185387, 0.385484, 0.124365, 0.52713, 0.647112, 0.403252, 0.46329799999999993, 0.515117, 0.5737399999999999, 0.45547299999999996, 0.53789, 0.449107, 0.445558, 0.39067199999999996, 0.483633, 0.5854739999999999, 0.798746, 0.43335, 0.383575, 0.501119, 0.5341279999999999, 0.47851400000000005], \"y\": [0.13128599999999999, 0.089269, 0.483487, 0.914617, 0.8234020000000001, 0.15446500000000002, 0.78556, 0.083058, 0.046292, 0.934464, 0.28071799999999997, 0.472517, 0.054373000000000005, 0.786579, 0.7482270000000001, 0.569488, 0.45067700000000005, 0.814102, 0.92376, 0.36301, 0.364799, 0.868878, 0.268214, 0.263413, 0.570162, 0.32719899999999996, 0.151421, 0.8171350000000001, 0.349329, 0.563199, 0.44937, 0.944868, 0.569695, 0.925435, 0.056125, 0.54904, 0.27133, 0.027398000000000002, 0.575979, 0.21184699999999998, 0.414288, 0.044485000000000004, 0.546512, 0.283229, 0.229913, 0.9044540000000001, 0.103824, 0.313783, 0.9187049999999999, 0.378027, 0.80283, 0.194378, 0.620556, 0.489104, 0.055186, 0.864641, 0.902167, 0.025, 0.48391000000000006, 0.025, 0.12300499999999999, 0.53888, 0.796771, 0.8844299999999999, 0.125497, 0.921293, 0.500894, 0.102033, 0.36495700000000003, 0.645278, 0.8889950000000001, 0.914492, 0.196144, 0.7475350000000001, 0.458075, 0.320144, 0.803523, 0.184843, 0.9488340000000001, 0.22920900000000002, 0.056125, 0.89712, 0.19556600000000002, 0.093861, 0.847117, 0.5803689999999999, 0.8153020000000001, 0.444082, 0.848125, 0.941003, 0.32516100000000003, 0.40837199999999996, 0.50483, 0.42852299999999993, 0.811487, 0.355577, 0.810751, 0.17243, 0.45388599999999996, 0.43462700000000004, 0.945674, 0.315818, 0.9221379999999999, 0.311931, 0.605006, 0.569488, 0.7355520000000001, 0.570162, 0.23083, 0.8816200000000001, 0.8478610000000001, 0.569488, 0.41929099999999997, 0.258917, 0.807175, 0.931441, 0.26716999999999996, 0.892985, 0.740796, 0.780468, 0.824363, 0.804017, 0.299281, 0.352643, 0.498667, 0.025639999999999996, 0.8993909999999999, 0.841361, 0.188133, 0.87277, 0.7541479999999999, 0.306386, 0.8607790000000001, 0.524057, 0.548834, 0.328581, 0.836161, 0.840124, 0.345616, 0.892543, 0.816577, 0.143362, 0.473818, 0.6411680000000001, 0.058732000000000006, 0.819434, 0.429937, 0.40580700000000003, 0.05037, 0.920895, 0.422789, 0.890961, 0.569695, 0.427889, 0.647153, 0.30880799999999997, 0.717958, 0.432519, 0.444671, 0.9513010000000001, 0.247819, 0.8021560000000001, 0.761422, 0.322353, 0.694455, 0.409544, 0.18258, 0.729781, 0.528434, 0.22076199999999999, 0.8482860000000001, 0.458924, 0.9448, 0.065147, 0.9502659999999999, 0.938831, 0.569695, 0.894533, 0.6560010000000001, 0.680442, 0.766158, 0.801297, 0.735848, 0.795946, 0.025, 0.88639, 0.159432, 0.939723, 0.8550110000000001, 0.5440510000000001, 0.295249, 0.569966, 0.8844290000000001, 0.9017950000000001, 0.47608500000000004, 0.313319, 0.341472, 0.585634, 0.24178200000000002, 0.807847, 0.454849, 0.800918, 0.9303319999999999, 0.507655, 0.14581, 0.279593, 0.287932, 0.694569, 0.9002290000000001, 0.586199, 0.910135, 0.593572, 0.68104, 0.9132629999999999, 0.094698, 0.041966, 0.82329, 0.817449, 0.45000200000000007, 0.158632, 0.440742, 0.929588, 0.175174, 0.20343, 0.8826700000000001, 0.072931, 0.941383, 0.8087409999999999, 0.388942, 0.790676, 0.577562, 0.808439, 0.58826, 0.162528, 0.857434, 0.12269100000000001, 0.9316989999999999, 0.732845, 0.604694, 0.35639699999999996, 0.570162, 0.8881950000000001, 0.612739, 0.8757739999999999, 0.8550110000000001, 0.852331, 0.906967, 0.36020599999999997, 0.9619780000000001, 0.363008, 0.42331499999999994, 0.154328, 0.406275, 0.025, 0.071975, 0.34862600000000005, 0.8550110000000001, 0.870469, 0.8505799999999999, 0.569695, 0.9056780000000001, 0.861123, 0.88926, 0.34417800000000004, 0.6434979999999999, 0.65449, 0.932368, 0.688534, 0.2475, 0.8550110000000001, 0.42915299999999995, 0.8550780000000001, 0.398755, 0.43963500000000005, 0.902351, 0.818339, 0.318006, 0.055562, 0.463984, 0.21293299999999998, 0.917892, 0.9288190000000001, 0.397392, 0.370936, 0.818692, 0.8872549999999999, 0.844931, 0.88179, 0.858395, 0.195442, 0.285637, 0.05654, 0.23586300000000002, 0.353323, 0.8243469999999999, 0.883518, 0.032596, 0.23340500000000003, 0.689955, 0.747202, 0.966468, 0.8718790000000001, 0.644716, 0.8703420000000001, 0.172214, 0.569488, 0.90879, 0.364823, 0.30867100000000003, 0.9431579999999999, 0.487413, 0.290179, 0.770103, 0.8389, 0.321579, 0.857878, 0.510513, 0.641204, 0.6737350000000001, 0.469156, 0.508446, 0.569488, 0.7965909999999999, 0.16416, 0.94494, 0.913114, 0.349561, 0.236083, 0.856733, 0.8193, 0.156879, 0.587608, 0.9345979999999999, 0.184998, 0.47484799999999994, 0.687647, 0.8550110000000001, 0.223046, 0.889966, 0.08658300000000001, 0.9209729999999999, 0.048183, 0.71885, 0.249007, 0.128019, 0.562349, 0.32624000000000003, 0.623278, 0.467092, 0.8155100000000001, 0.42897399999999997, 0.412637, 0.818806, 0.044545, 0.774476, 0.837267, 0.86082, 0.6512359999999999, 0.835959, 0.605887, 0.478625, 0.6958310000000001, 0.8676299999999999, 0.569488, 0.5466340000000001, 0.651924, 0.566236, 0.382703, 0.508415, 0.76149, 0.835464, 0.259015, 0.025, 0.813567, 0.8054979999999999, 0.457751, 0.8729879999999999, 0.701304, 0.872917, 0.287173, 0.900934, 0.509817, 0.8225309999999999, 0.6576649999999999, 0.553144, 0.551504, 0.837666, 0.38566500000000004, 0.337415, 0.662539, 0.615609, 0.739025, 0.41297700000000004, 0.8381879999999999, 0.935156, 0.337927, 0.8200200000000001, 0.199486, 0.731112, 0.514228], \"z\": [0.04916, 0.052387, 0.08692000000000001, 0.063526, 0.053841, 0.04842, 0.125168, 0.092704, 0.07506399999999999, 0.134345, 0.045423000000000005, 0.133939, 0.091526, 0.124731, 0.030188, 0.12559700000000001, 0.07750499999999999, 0.047702, 0.116953, 0.123697, 0.123944, 0.079706, 0.11298499999999999, 0.112702, 0.12363199999999999, 0.03428, 0.099788, 0.09144400000000001, 0.032414, 0.12408399999999999, 0.071786, 0.140259, 0.078934, 0.138217, 0.061708000000000006, 0.091147, 0.038405, 0.16777, 0.058051, 0.106616, 0.091025, 0.112695, 0.133939, 0.11468199999999999, 0.070384, 0.13956500000000002, 0.082498, 0.035378, 0.097398, 0.090878, 0.11436600000000001, 0.071857, 0.137007, 0.116096, 0.087113, 0.072062, 0.116309, 0.084579, 0.10686500000000002, 0.08837, 0.049796, 0.078319, 0.111943, 0.058788, 0.049605, 0.083689, 0.05816, 0.052712, 0.12396099999999999, 0.097523, 0.13604000000000002, 0.148821, 0.099721, 0.077998, 0.071643, 0.034857, 0.064206, 0.045047000000000004, 0.116297, 0.066262, 0.057302, 0.071406, 0.048576999999999995, 0.07375, 0.119423, 0.13458599999999998, 0.10244, 0.033981, 0.12676099999999998, 0.08695499999999999, 0.088306, 0.047368, 0.101701, 0.033829000000000005, 0.062064999999999995, 0.07657699999999999, 0.097552, 0.046, 0.030188, 0.030188, 0.14284000000000002, 0.11836400000000001, 0.133401, 0.098175, 0.050172, 0.12312100000000001, 0.030188, 0.092153, 0.097373, 0.127617, 0.081606, 0.063348, 0.128441, 0.039358, 0.042582999999999996, 0.103556, 0.071055, 0.08176699999999999, 0.07191399999999999, 0.100445, 0.06985, 0.066643, 0.036565, 0.079868, 0.133939, 0.18364, 0.063213, 0.047139, 0.10229099999999999, 0.12037300000000001, 0.13863, 0.10626300000000001, 0.11961400000000001, 0.133939, 0.059973, 0.095215, 0.12671300000000002, 0.129814, 0.032772, 0.11873099999999999, 0.047283, 0.09379, 0.129326, 0.087882, 0.090007, 0.077651, 0.04827, 0.030188, 0.080539, 0.13797, 0.030188, 0.093054, 0.083207, 0.030188, 0.038732, 0.11773499999999999, 0.061025, 0.08745399999999999, 0.10646300000000002, 0.172251, 0.049029, 0.118055, 0.0656, 0.117461, 0.141468, 0.044012, 0.051823, 0.067178, 0.097593, 0.042993, 0.074818, 0.10043300000000001, 0.047549, 0.090718, 0.15977, 0.126795, 0.07283300000000001, 0.079053, 0.074318, 0.074702, 0.030188, 0.039644, 0.063566, 0.103301, 0.076758, 0.072353, 0.10069299999999999, 0.142027, 0.062065999999999996, 0.12356600000000001, 0.051023, 0.104671, 0.117028, 0.089806, 0.130672, 0.10113899999999999, 0.050872, 0.1349, 0.066584, 0.076988, 0.133928, 0.039454, 0.156131, 0.09134500000000001, 0.09915399999999999, 0.038176999999999996, 0.100958, 0.030188, 0.07343999999999999, 0.055277, 0.037969, 0.069499, 0.047006, 0.088952, 0.09399500000000001, 0.071075, 0.056909, 0.090012, 0.030188, 0.065058, 0.132481, 0.100997, 0.079429, 0.073619, 0.10369300000000001, 0.055095000000000005, 0.057666999999999996, 0.076461, 0.10801, 0.034332999999999995, 0.124599, 0.075378, 0.10431099999999999, 0.062688, 0.075379, 0.049819999999999996, 0.09928, 0.143827, 0.050256999999999996, 0.08112, 0.070634, 0.123483, 0.048073000000000005, 0.07672000000000001, 0.080695, 0.064401, 0.139988, 0.031577, 0.164917, 0.031363999999999996, 0.130511, 0.079586, 0.11541400000000002, 0.109953, 0.068832, 0.12108800000000002, 0.094177, 0.06906699999999999, 0.096296, 0.110838, 0.097902, 0.09145199999999999, 0.113121, 0.103047, 0.041298, 0.044404, 0.10525599999999999, 0.030188, 0.085001, 0.086488, 0.030188, 0.131543, 0.079158, 0.030188, 0.134962, 0.084221, 0.118755, 0.08507100000000001, 0.033259, 0.10503699999999999, 0.10994300000000001, 0.136767, 0.126895, 0.030755, 0.048341, 0.07625499999999999, 0.12481199999999999, 0.136265, 0.135517, 0.054573, 0.112524, 0.06894700000000001, 0.07169099999999999, 0.071859, 0.048592, 0.097663, 0.11690899999999999, 0.041317, 0.103524, 0.030188, 0.164749, 0.100787, 0.039394, 0.059424, 0.046017, 0.083751, 0.107046, 0.031225, 0.047274000000000004, 0.146622, 0.133939, 0.048325, 0.030188, 0.12246900000000001, 0.11915099999999999, 0.12419000000000001, 0.133939, 0.069748, 0.114757, 0.031904, 0.13347, 0.113005, 0.06485199999999999, 0.084077, 0.12844, 0.11490999999999998, 0.098049, 0.041112, 0.117132, 0.040432, 0.067343, 0.054895000000000006, 0.10733800000000002, 0.07184299999999999, 0.09784, 0.030188, 0.08881599999999999, 0.10788099999999999, 0.137141, 0.07081900000000001, 0.11896300000000001, 0.125125, 0.040247000000000005, 0.097287, 0.049411000000000004, 0.057668, 0.034187999999999996, 0.056479999999999995, 0.041992, 0.070063, 0.131151, 0.129248, 0.037981, 0.07373099999999999, 0.050894, 0.114897, 0.086324, 0.037624, 0.12136400000000001, 0.049933, 0.034631, 0.030188, 0.095032, 0.091336, 0.09954600000000001, 0.038873000000000005, 0.07287300000000001, 0.125922, 0.04289, 0.135451, 0.123205, 0.101125, 0.131183, 0.112855, 0.041743999999999996, 0.06564099999999999, 0.05952999999999999, 0.141915, 0.129645, 0.05544299999999999, 0.145773, 0.106623, 0.120904, 0.132582, 0.094404, 0.062189, 0.033955, 0.046855, 0.033443, 0.139566, 0.047294, 0.134152, 0.129343, 0.086497, 0.11258399999999999, 0.03329, 0.098909, 0.10521900000000001, 0.047652999999999994, 0.044882]}],                        {\"scene\": {\"xaxis\": {\"exponentformat\": \"e\", \"showexponent\": \"all\", \"title\": {\"text\": \"0th\"}, \"type\": \"linear\"}, \"yaxis\": {\"exponentformat\": \"e\", \"showexponent\": \"all\", \"title\": {\"text\": \"1st\"}, \"type\": \"linear\"}, \"zaxis\": {\"exponentformat\": \"e\", \"showexponent\": \"all\", \"title\": {\"text\": \"2nd\"}, \"type\": \"linear\"}}, \"template\": {\"data\": {\"bar\": [{\"error_x\": {\"color\": \"#2a3f5f\"}, \"error_y\": {\"color\": \"#2a3f5f\"}, \"marker\": {\"line\": {\"color\": \"#E5ECF6\", \"width\": 0.5}}, \"type\": \"bar\"}], \"barpolar\": [{\"marker\": {\"line\": {\"color\": \"#E5ECF6\", \"width\": 0.5}}, \"type\": \"barpolar\"}], \"carpet\": [{\"aaxis\": {\"endlinecolor\": \"#2a3f5f\", \"gridcolor\": \"white\", \"linecolor\": \"white\", \"minorgridcolor\": \"white\", \"startlinecolor\": \"#2a3f5f\"}, \"baxis\": {\"endlinecolor\": \"#2a3f5f\", \"gridcolor\": \"white\", \"linecolor\": \"white\", \"minorgridcolor\": \"white\", \"startlinecolor\": \"#2a3f5f\"}, \"type\": \"carpet\"}], \"choropleth\": [{\"colorbar\": {\"outlinewidth\": 0, \"ticks\": \"\"}, \"type\": \"choropleth\"}], \"contour\": [{\"colorbar\": {\"outlinewidth\": 0, \"ticks\": \"\"}, \"colorscale\": [[0.0, \"#0d0887\"], [0.1111111111111111, \"#46039f\"], [0.2222222222222222, \"#7201a8\"], [0.3333333333333333, \"#9c179e\"], [0.4444444444444444, \"#bd3786\"], [0.5555555555555556, \"#d8576b\"], [0.6666666666666666, \"#ed7953\"], [0.7777777777777778, \"#fb9f3a\"], [0.8888888888888888, \"#fdca26\"], [1.0, \"#f0f921\"]], \"type\": \"contour\"}], \"contourcarpet\": [{\"colorbar\": {\"outlinewidth\": 0, \"ticks\": \"\"}, \"type\": \"contourcarpet\"}], \"heatmap\": [{\"colorbar\": {\"outlinewidth\": 0, \"ticks\": \"\"}, \"colorscale\": [[0.0, \"#0d0887\"], [0.1111111111111111, \"#46039f\"], [0.2222222222222222, \"#7201a8\"], [0.3333333333333333, \"#9c179e\"], [0.4444444444444444, \"#bd3786\"], [0.5555555555555556, \"#d8576b\"], [0.6666666666666666, \"#ed7953\"], [0.7777777777777778, \"#fb9f3a\"], [0.8888888888888888, \"#fdca26\"], [1.0, \"#f0f921\"]], \"type\": \"heatmap\"}], \"heatmapgl\": [{\"colorbar\": {\"outlinewidth\": 0, \"ticks\": \"\"}, \"colorscale\": [[0.0, \"#0d0887\"], [0.1111111111111111, \"#46039f\"], [0.2222222222222222, \"#7201a8\"], [0.3333333333333333, \"#9c179e\"], [0.4444444444444444, \"#bd3786\"], [0.5555555555555556, \"#d8576b\"], [0.6666666666666666, \"#ed7953\"], [0.7777777777777778, \"#fb9f3a\"], [0.8888888888888888, \"#fdca26\"], [1.0, \"#f0f921\"]], \"type\": \"heatmapgl\"}], \"histogram\": [{\"marker\": {\"colorbar\": {\"outlinewidth\": 0, \"ticks\": \"\"}}, \"type\": \"histogram\"}], \"histogram2d\": [{\"colorbar\": {\"outlinewidth\": 0, \"ticks\": \"\"}, \"colorscale\": [[0.0, \"#0d0887\"], [0.1111111111111111, \"#46039f\"], [0.2222222222222222, \"#7201a8\"], [0.3333333333333333, \"#9c179e\"], [0.4444444444444444, \"#bd3786\"], [0.5555555555555556, \"#d8576b\"], [0.6666666666666666, \"#ed7953\"], [0.7777777777777778, \"#fb9f3a\"], [0.8888888888888888, \"#fdca26\"], [1.0, \"#f0f921\"]], \"type\": \"histogram2d\"}], \"histogram2dcontour\": [{\"colorbar\": {\"outlinewidth\": 0, \"ticks\": \"\"}, \"colorscale\": [[0.0, \"#0d0887\"], [0.1111111111111111, \"#46039f\"], [0.2222222222222222, \"#7201a8\"], [0.3333333333333333, \"#9c179e\"], [0.4444444444444444, \"#bd3786\"], [0.5555555555555556, \"#d8576b\"], [0.6666666666666666, \"#ed7953\"], [0.7777777777777778, \"#fb9f3a\"], [0.8888888888888888, \"#fdca26\"], [1.0, \"#f0f921\"]], \"type\": \"histogram2dcontour\"}], \"mesh3d\": [{\"colorbar\": {\"outlinewidth\": 0, \"ticks\": \"\"}, \"type\": \"mesh3d\"}], \"parcoords\": [{\"line\": {\"colorbar\": {\"outlinewidth\": 0, \"ticks\": \"\"}}, \"type\": \"parcoords\"}], \"pie\": [{\"automargin\": true, \"type\": \"pie\"}], \"scatter\": [{\"marker\": {\"colorbar\": {\"outlinewidth\": 0, \"ticks\": \"\"}}, \"type\": \"scatter\"}], \"scatter3d\": [{\"line\": {\"colorbar\": {\"outlinewidth\": 0, \"ticks\": \"\"}}, \"marker\": {\"colorbar\": {\"outlinewidth\": 0, \"ticks\": \"\"}}, \"type\": \"scatter3d\"}], \"scattercarpet\": [{\"marker\": {\"colorbar\": {\"outlinewidth\": 0, \"ticks\": \"\"}}, \"type\": \"scattercarpet\"}], \"scattergeo\": [{\"marker\": {\"colorbar\": {\"outlinewidth\": 0, \"ticks\": \"\"}}, \"type\": \"scattergeo\"}], \"scattergl\": [{\"marker\": {\"colorbar\": {\"outlinewidth\": 0, \"ticks\": \"\"}}, \"type\": \"scattergl\"}], \"scattermapbox\": [{\"marker\": {\"colorbar\": {\"outlinewidth\": 0, \"ticks\": \"\"}}, \"type\": \"scattermapbox\"}], \"scatterpolar\": [{\"marker\": {\"colorbar\": {\"outlinewidth\": 0, \"ticks\": \"\"}}, \"type\": \"scatterpolar\"}], \"scatterpolargl\": [{\"marker\": {\"colorbar\": {\"outlinewidth\": 0, \"ticks\": \"\"}}, \"type\": \"scatterpolargl\"}], \"scatterternary\": [{\"marker\": {\"colorbar\": {\"outlinewidth\": 0, \"ticks\": \"\"}}, \"type\": \"scatterternary\"}], \"surface\": [{\"colorbar\": {\"outlinewidth\": 0, \"ticks\": \"\"}, \"colorscale\": [[0.0, \"#0d0887\"], [0.1111111111111111, \"#46039f\"], [0.2222222222222222, \"#7201a8\"], [0.3333333333333333, \"#9c179e\"], [0.4444444444444444, \"#bd3786\"], [0.5555555555555556, \"#d8576b\"], [0.6666666666666666, \"#ed7953\"], [0.7777777777777778, \"#fb9f3a\"], [0.8888888888888888, \"#fdca26\"], [1.0, \"#f0f921\"]], \"type\": \"surface\"}], \"table\": [{\"cells\": {\"fill\": {\"color\": \"#EBF0F8\"}, \"line\": {\"color\": \"white\"}}, \"header\": {\"fill\": {\"color\": \"#C8D4E3\"}, \"line\": {\"color\": \"white\"}}, \"type\": \"table\"}]}, \"layout\": {\"annotationdefaults\": {\"arrowcolor\": \"#2a3f5f\", \"arrowhead\": 0, \"arrowwidth\": 1}, \"autotypenumbers\": \"strict\", \"coloraxis\": {\"colorbar\": {\"outlinewidth\": 0, \"ticks\": \"\"}}, \"colorscale\": {\"diverging\": [[0, \"#8e0152\"], [0.1, \"#c51b7d\"], [0.2, \"#de77ae\"], [0.3, \"#f1b6da\"], [0.4, \"#fde0ef\"], [0.5, \"#f7f7f7\"], [0.6, \"#e6f5d0\"], [0.7, \"#b8e186\"], [0.8, \"#7fbc41\"], [0.9, \"#4d9221\"], [1, \"#276419\"]], \"sequential\": [[0.0, \"#0d0887\"], [0.1111111111111111, \"#46039f\"], [0.2222222222222222, \"#7201a8\"], [0.3333333333333333, \"#9c179e\"], [0.4444444444444444, \"#bd3786\"], [0.5555555555555556, \"#d8576b\"], [0.6666666666666666, \"#ed7953\"], [0.7777777777777778, \"#fb9f3a\"], [0.8888888888888888, \"#fdca26\"], [1.0, \"#f0f921\"]], \"sequentialminus\": [[0.0, \"#0d0887\"], [0.1111111111111111, \"#46039f\"], [0.2222222222222222, \"#7201a8\"], [0.3333333333333333, \"#9c179e\"], [0.4444444444444444, \"#bd3786\"], [0.5555555555555556, \"#d8576b\"], [0.6666666666666666, \"#ed7953\"], [0.7777777777777778, \"#fb9f3a\"], [0.8888888888888888, \"#fdca26\"], [1.0, \"#f0f921\"]]}, \"colorway\": [\"#636efa\", \"#EF553B\", \"#00cc96\", \"#ab63fa\", \"#FFA15A\", \"#19d3f3\", \"#FF6692\", \"#B6E880\", \"#FF97FF\", \"#FECB52\"], \"font\": {\"color\": \"#2a3f5f\"}, \"geo\": {\"bgcolor\": \"white\", \"lakecolor\": \"white\", \"landcolor\": \"#E5ECF6\", \"showlakes\": true, \"showland\": true, \"subunitcolor\": \"white\"}, \"hoverlabel\": {\"align\": \"left\"}, \"hovermode\": \"closest\", \"mapbox\": {\"style\": \"light\"}, \"paper_bgcolor\": \"white\", \"plot_bgcolor\": \"#E5ECF6\", \"polar\": {\"angularaxis\": {\"gridcolor\": \"white\", \"linecolor\": \"white\", \"ticks\": \"\"}, \"bgcolor\": \"#E5ECF6\", \"radialaxis\": {\"gridcolor\": \"white\", \"linecolor\": \"white\", \"ticks\": \"\"}}, \"scene\": {\"xaxis\": {\"backgroundcolor\": \"#E5ECF6\", \"gridcolor\": \"white\", \"gridwidth\": 2, \"linecolor\": \"white\", \"showbackground\": true, \"ticks\": \"\", \"zerolinecolor\": \"white\"}, \"yaxis\": {\"backgroundcolor\": \"#E5ECF6\", \"gridcolor\": \"white\", \"gridwidth\": 2, \"linecolor\": \"white\", \"showbackground\": true, \"ticks\": \"\", \"zerolinecolor\": \"white\"}, \"zaxis\": {\"backgroundcolor\": \"#E5ECF6\", \"gridcolor\": \"white\", \"gridwidth\": 2, \"linecolor\": \"white\", \"showbackground\": true, \"ticks\": \"\", \"zerolinecolor\": \"white\"}}, \"shapedefaults\": {\"line\": {\"color\": \"#2a3f5f\"}}, \"ternary\": {\"aaxis\": {\"gridcolor\": \"white\", \"linecolor\": \"white\", \"ticks\": \"\"}, \"baxis\": {\"gridcolor\": \"white\", \"linecolor\": \"white\", \"ticks\": \"\"}, \"bgcolor\": \"#E5ECF6\", \"caxis\": {\"gridcolor\": \"white\", \"linecolor\": \"white\", \"ticks\": \"\"}}, \"title\": {\"x\": 0.05}, \"xaxis\": {\"automargin\": true, \"gridcolor\": \"white\", \"linecolor\": \"white\", \"ticks\": \"\", \"title\": {\"standoff\": 15}, \"zerolinecolor\": \"white\", \"zerolinewidth\": 2}, \"yaxis\": {\"automargin\": true, \"gridcolor\": \"white\", \"linecolor\": \"white\", \"ticks\": \"\", \"title\": {\"standoff\": 15}, \"zerolinecolor\": \"white\", \"zerolinewidth\": 2}}}},                        {\"responsive\": true}                    ).then(function(){\n",
              "                            \n",
              "var gd = document.getElementById('20bbd913-c717-433d-adf4-a02970b54ee5');\n",
              "var x = new MutationObserver(function (mutations, observer) {{\n",
              "        var display = window.getComputedStyle(gd).display;\n",
              "        if (!display || display === 'none') {{\n",
              "            console.log([gd, 'removed!']);\n",
              "            Plotly.purge(gd);\n",
              "            observer.disconnect();\n",
              "        }}\n",
              "}});\n",
              "\n",
              "// Listen for the removal of the full notebook cells\n",
              "var notebookContainer = gd.closest('#notebook-container');\n",
              "if (notebookContainer) {{\n",
              "    x.observe(notebookContainer, {childList: true});\n",
              "}}\n",
              "\n",
              "// Listen for the clearing of the current output cell\n",
              "var outputEl = gd.closest('.output');\n",
              "if (outputEl) {{\n",
              "    x.observe(outputEl, {childList: true});\n",
              "}}\n",
              "\n",
              "                        })                };                            </script>        </div>\n",
              "</body>\n",
              "</html>"
            ]
          },
          "metadata": {
            "tags": []
          }
        }
      ]
    },
    {
      "cell_type": "code",
      "metadata": {
        "colab": {
          "base_uri": "https://localhost:8080/"
        },
        "id": "JJl_SQ0vsgvC",
        "outputId": "0fd2411e-7dfc-432c-e6b7-4b4fcc791b03"
      },
      "source": [
        "type(plot)"
      ],
      "execution_count": null,
      "outputs": [
        {
          "output_type": "execute_result",
          "data": {
            "text/plain": [
              "plotly.graph_objs._figure.Figure"
            ]
          },
          "metadata": {
            "tags": []
          },
          "execution_count": 13
        }
      ]
    },
    {
      "cell_type": "code",
      "metadata": {
        "id": "magkHkTgtBED"
      },
      "source": [
        "plot.write_html('plot.html')"
      ],
      "execution_count": null,
      "outputs": []
    },
    {
      "cell_type": "code",
      "metadata": {
        "colab": {
          "base_uri": "https://localhost:8080/"
        },
        "id": "CEt9SvJ4tqma",
        "outputId": "a0b48531-7b3e-4b5b-a109-c194667152ef"
      },
      "source": [
        "import numpy as np\n",
        "\n",
        "point_clouds = np.asarray(\n",
        "    [\n",
        "        df.query(\"target == @shape\")[[\"x\", \"y\", \"z\"]].values\n",
        "        for shape in df[\"target\"].unique()\n",
        "    ]\n",
        ")\n",
        "point_clouds.shape"
      ],
      "execution_count": null,
      "outputs": [
        {
          "output_type": "execute_result",
          "data": {
            "text/plain": [
              "(40, 400, 3)"
            ]
          },
          "metadata": {
            "tags": []
          },
          "execution_count": 16
        }
      ]
    },
    {
      "cell_type": "code",
      "metadata": {
        "colab": {
          "base_uri": "https://localhost:8080/",
          "height": 517
        },
        "id": "cXjB7t2su6gH",
        "outputId": "e04bc3dd-1392-4a23-f03a-dd0773005762"
      },
      "source": [
        "from gtda.homology import VietorisRipsPersistence\n",
        "\n",
        "# Track connected components, loops, and voids\n",
        "homology_dimensions = [0, 1, 2]\n",
        "\n",
        "persistence = VietorisRipsPersistence(\n",
        "    metric=\"euclidean\",\n",
        "    homology_dimensions=homology_dimensions,\n",
        "    n_jobs=6,\n",
        "    collapse_edges=True,\n",
        ")\n",
        "persistence_diagrams = persistence.fit_transform(point_clouds)\n",
        "\n",
        "#Example Persistence Diagram\n",
        "plot_diagram(persistence_diagrams[10])"
      ],
      "execution_count": null,
      "outputs": [
        {
          "output_type": "display_data",
          "data": {
            "text/html": [
              "<html>\n",
              "<head><meta charset=\"utf-8\" /></head>\n",
              "<body>\n",
              "    <div>            <script src=\"https://cdnjs.cloudflare.com/ajax/libs/mathjax/2.7.5/MathJax.js?config=TeX-AMS-MML_SVG\"></script><script type=\"text/javascript\">if (window.MathJax) {MathJax.Hub.Config({SVG: {font: \"STIX-Web\"}});}</script>                <script type=\"text/javascript\">window.PlotlyConfig = {MathJaxConfig: 'local'};</script>\n",
              "        <script src=\"https://cdn.plot.ly/plotly-latest.min.js\"></script>                <div id=\"a9f3ceee-8b8f-479e-bb0b-dfb40fc36ddf\" class=\"plotly-graph-div\" style=\"height:500px; width:500px;\"></div>            <script type=\"text/javascript\">                                    window.PLOTLYENV=window.PLOTLYENV || {};                                    if (document.getElementById(\"a9f3ceee-8b8f-479e-bb0b-dfb40fc36ddf\")) {                    Plotly.newPlot(                        \"a9f3ceee-8b8f-479e-bb0b-dfb40fc36ddf\",                        [{\"hoverinfo\": \"none\", \"line\": {\"color\": \"black\", \"dash\": \"dash\", \"width\": 1}, \"mode\": \"lines\", \"showlegend\": false, \"type\": \"scatter\", \"x\": [-0.0054364907741546635, 0.2772610294818878], \"y\": [-0.0054364907741546635, 0.2772610294818878]}, {\"hoverinfo\": \"text\", \"hovertext\": [\"(0.0, 0.0022422955371439457)\", \"(0.0, 0.0028598238714039326)\", \"(0.0, 0.003753021592274308)\", \"(0.0, 0.004117018077522516)\", \"(0.0, 0.0041249399073421955)\", \"(0.0, 0.004334444645792246)\", \"(0.0, 0.004562899004667997)\", \"(0.0, 0.00508921779692173)\", \"(0.0, 0.005478622857481241)\", \"(0.0, 0.005797529127448797)\", \"(0.0, 0.00627688504755497)\", \"(0.0, 0.00662571657449007)\", \"(0.0, 0.0073094903491437435)\", \"(0.0, 0.007995601743459702)\", \"(0.0, 0.008079608902335167)\", \"(0.0, 0.008086646907031536)\", \"(0.0, 0.008482621982693672)\", \"(0.0, 0.009009336121380329)\", \"(0.0, 0.009058532305061817)\", \"(0.0, 0.009479735977947712)\", \"(0.0, 0.009913524612784386)\", \"(0.0, 0.011128257028758526)\", \"(0.0, 0.01129030529409647)\", \"(0.0, 0.011801119893789291)\", \"(0.0, 0.012182327918708324)\", \"(0.0, 0.012237767688930035)\", \"(0.0, 0.013198209926486015)\", \"(0.0, 0.013212627731263638)\", \"(0.0, 0.013678289949893951)\", \"(0.0, 0.01380867138504982)\", \"(0.0, 0.01403882633894682)\", \"(0.0, 0.014901578426361084)\", \"(0.0, 0.015016274526715279)\", \"(0.0, 0.01525694876909256)\", \"(0.0, 0.015324706211686134)\", \"(0.0, 0.015334321185946465)\", \"(0.0, 0.015442882664501667)\", \"(0.0, 0.016291804611682892)\", \"(0.0, 0.016623813658952713)\", \"(0.0, 0.016703113913536072)\", \"(0.0, 0.017201799899339676)\", \"(0.0, 0.017343785613775253)\", \"(0.0, 0.0175411868840456)\", \"(0.0, 0.01757754199206829)\", \"(0.0, 0.017606372013688087)\", \"(0.0, 0.017649255692958832)\", \"(0.0, 0.017758801579475403)\", \"(0.0, 0.018301356583833694)\", \"(0.0, 0.01834966242313385)\", \"(0.0, 0.018529102206230164)\", \"(0.0, 0.018536359071731567)\", \"(0.0, 0.01854333095252514)\", \"(0.0, 0.018720412626862526)\", \"(0.0, 0.018768619745969772)\", \"(0.0, 0.018924228847026825)\", \"(0.0, 0.01897672563791275)\", \"(0.0, 0.01931941881775856)\", \"(0.0, 0.019364196807146072)\", \"(0.0, 0.01963123120367527)\", \"(0.0, 0.019737010821700096)\", \"(0.0, 0.02009785734117031)\", \"(0.0, 0.020177949219942093)\", \"(0.0, 0.02033066377043724)\", \"(0.0, 0.020339736714959145)\", \"(0.0, 0.020722702145576477)\", \"(0.0, 0.020766979083418846)\", \"(0.0, 0.020779529586434364)\", \"(0.0, 0.02085079997777939)\", \"(0.0, 0.020894506946206093)\", \"(0.0, 0.0210907980799675)\", \"(0.0, 0.021107984706759453)\", \"(0.0, 0.02132883481681347)\", \"(0.0, 0.021468747407197952)\", \"(0.0, 0.021675461903214455)\", \"(0.0, 0.02169210836291313)\", \"(0.0, 0.021944252774119377)\", \"(0.0, 0.02210499718785286)\", \"(0.0, 0.022865448147058487)\", \"(0.0, 0.023184621706604958)\", \"(0.0, 0.023355673998594284)\", \"(0.0, 0.02375899627804756)\", \"(0.0, 0.02380477637052536)\", \"(0.0, 0.023897647857666016)\", \"(0.0, 0.024053363129496574)\", \"(0.0, 0.02420325204730034)\", \"(0.0, 0.02421271614730358)\", \"(0.0, 0.024304956197738647)\", \"(0.0, 0.02447216957807541)\", \"(0.0, 0.024514591321349144)\", \"(0.0, 0.0245743989944458)\", \"(0.0, 0.024635089561343193)\", \"(0.0, 0.024705665186047554)\", \"(0.0, 0.024844782426953316)\", \"(0.0, 0.024846352636814117)\", \"(0.0, 0.025030964985489845)\", \"(0.0, 0.025211796164512634)\", \"(0.0, 0.025303419679403305)\", \"(0.0, 0.025800960138440132)\", \"(0.0, 0.026147840544581413)\", \"(0.0, 0.026274967938661575)\", \"(0.0, 0.026276882737874985)\", \"(0.0, 0.026362769305706024)\", \"(0.0, 0.026523560285568237)\", \"(0.0, 0.026627639308571815)\", \"(0.0, 0.026642432436347008)\", \"(0.0, 0.026680218055844307)\", \"(0.0, 0.02672892063856125)\", \"(0.0, 0.02687503956258297)\", \"(0.0, 0.027094844728708267)\", \"(0.0, 0.027337685227394104)\", \"(0.0, 0.027509042993187904)\", \"(0.0, 0.027562247589230537)\", \"(0.0, 0.027605844661593437)\", \"(0.0, 0.027691269293427467)\", \"(0.0, 0.027707895264029503)\", \"(0.0, 0.027734672650694847)\", \"(0.0, 0.028190232813358307)\", \"(0.0, 0.02849961258471012)\", \"(0.0, 0.02869989536702633)\", \"(0.0, 0.028852589428424835)\", \"(0.0, 0.029130596667528152)\", \"(0.0, 0.02943442203104496)\", \"(0.0, 0.029574790969491005)\", \"(0.0, 0.029923541471362114)\", \"(0.0, 0.030086765065789223)\", \"(0.0, 0.030185958370566368)\", \"(0.0, 0.030466919764876366)\", \"(0.0, 0.030493538826704025)\", \"(0.0, 0.030522793531417847)\", \"(0.0, 0.030874550342559814)\", \"(0.0, 0.030910952016711235)\", \"(0.0, 0.031256064772605896)\", \"(0.0, 0.03154566138982773)\", \"(0.0, 0.03157639876008034)\", \"(0.0, 0.03176341578364372)\", \"(0.0, 0.032022301107645035)\", \"(0.0, 0.03212478756904602)\", \"(0.0, 0.03240431845188141)\", \"(0.0, 0.03240867704153061)\", \"(0.0, 0.03245458006858826)\", \"(0.0, 0.03251401707530022)\", \"(0.0, 0.03253498300909996)\", \"(0.0, 0.032560572028160095)\", \"(0.0, 0.03292303532361984)\", \"(0.0, 0.03304256871342659)\", \"(0.0, 0.03335480019450188)\", \"(0.0, 0.03344474360346794)\", \"(0.0, 0.03355717286467552)\", \"(0.0, 0.03374125435948372)\", \"(0.0, 0.03381333127617836)\", \"(0.0, 0.03384719043970108)\", \"(0.0, 0.03394079953432083)\", \"(0.0, 0.033960141241550446)\", \"(0.0, 0.03423083946108818)\", \"(0.0, 0.03430919349193573)\", \"(0.0, 0.034363072365522385)\", \"(0.0, 0.03448272496461868)\", \"(0.0, 0.03470291197299957)\", \"(0.0, 0.0347122959792614)\", \"(0.0, 0.03490262106060982)\", \"(0.0, 0.0349092036485672)\", \"(0.0, 0.035245366394519806)\", \"(0.0, 0.03555670380592346)\", \"(0.0, 0.035631485283374786)\", \"(0.0, 0.03589135408401489)\", \"(0.0, 0.03615337982773781)\", \"(0.0, 0.03643374517560005)\", \"(0.0, 0.03654460236430168)\", \"(0.0, 0.03668910637497902)\", \"(0.0, 0.03671187907457352)\", \"(0.0, 0.03671438992023468)\", \"(0.0, 0.036822181195020676)\", \"(0.0, 0.03684132918715477)\", \"(0.0, 0.03688102588057518)\", \"(0.0, 0.036886993795633316)\", \"(0.0, 0.036913566291332245)\", \"(0.0, 0.03702317550778389)\", \"(0.0, 0.037227801978588104)\", \"(0.0, 0.037304192781448364)\", \"(0.0, 0.03755344823002815)\", \"(0.0, 0.037700120359659195)\", \"(0.0, 0.03797004744410515)\", \"(0.0, 0.038038164377212524)\", \"(0.0, 0.03816662356257439)\", \"(0.0, 0.038205988705158234)\", \"(0.0, 0.038217030465602875)\", \"(0.0, 0.03831232711672783)\", \"(0.0, 0.03833760321140289)\", \"(0.0, 0.038681261241436005)\", \"(0.0, 0.038755759596824646)\", \"(0.0, 0.03884878009557724)\", \"(0.0, 0.038961928337812424)\", \"(0.0, 0.039061278104782104)\", \"(0.0, 0.03914590924978256)\", \"(0.0, 0.03922087326645851)\", \"(0.0, 0.03922206908464432)\", \"(0.0, 0.039315320551395416)\", \"(0.0, 0.039434075355529785)\", \"(0.0, 0.039599351584911346)\", \"(0.0, 0.03964380547404289)\", \"(0.0, 0.039647940546274185)\", \"(0.0, 0.03967706859111786)\", \"(0.0, 0.0398382768034935)\", \"(0.0, 0.03991909325122833)\", \"(0.0, 0.040006812661886215)\", \"(0.0, 0.040121156722307205)\", \"(0.0, 0.04012826457619667)\", \"(0.0, 0.04016558825969696)\", \"(0.0, 0.0402611680328846)\", \"(0.0, 0.04061727970838547)\", \"(0.0, 0.040834106504917145)\", \"(0.0, 0.04103266820311546)\", \"(0.0, 0.04124882444739342)\", \"(0.0, 0.041259657591581345)\", \"(0.0, 0.041602663695812225)\", \"(0.0, 0.041889894753694534)\", \"(0.0, 0.042123809456825256)\", \"(0.0, 0.04212537407875061)\", \"(0.0, 0.042233843356370926)\", \"(0.0, 0.042263373732566833)\", \"(0.0, 0.042340248823165894)\", \"(0.0, 0.04245352745056152)\", \"(0.0, 0.04257315769791603)\", \"(0.0, 0.04287726432085037)\", \"(0.0, 0.04296879842877388)\", \"(0.0, 0.043026361614465714)\", \"(0.0, 0.04313510283827782)\", \"(0.0, 0.04322057217359543)\", \"(0.0, 0.043382029980421066)\", \"(0.0, 0.043433643877506256)\", \"(0.0, 0.04368714243173599)\", \"(0.0, 0.0439339205622673)\", \"(0.0, 0.04398218169808388)\", \"(0.0, 0.04460163414478302)\", \"(0.0, 0.04480233043432236)\", \"(0.0, 0.0449712872505188)\", \"(0.0, 0.04506034404039383)\", \"(0.0, 0.04506491497159004)\", \"(0.0, 0.04518751800060272)\", \"(0.0, 0.04530956223607063)\", \"(0.0, 0.04565805196762085)\", \"(0.0, 0.04568452015519142)\", \"(0.0, 0.04585737735033035)\", \"(0.0, 0.04621516913175583)\", \"(0.0, 0.04622634872794151)\", \"(0.0, 0.04660308361053467)\", \"(0.0, 0.04661770537495613)\", \"(0.0, 0.04676934331655502)\", \"(0.0, 0.04680652171373367)\", \"(0.0, 0.0469183474779129)\", \"(0.0, 0.046982165426015854)\", \"(0.0, 0.04708745330572128)\", \"(0.0, 0.047192249447107315)\", \"(0.0, 0.04737824201583862)\", \"(0.0, 0.047506850212812424)\", \"(0.0, 0.04751206934452057)\", \"(0.0, 0.04754794389009476)\", \"(0.0, 0.047721464186906815)\", \"(0.0, 0.047751400619745255)\", \"(0.0, 0.047931887209415436)\", \"(0.0, 0.04803171381354332)\", \"(0.0, 0.04806675389409065)\", \"(0.0, 0.048089586198329926)\", \"(0.0, 0.04810420423746109)\", \"(0.0, 0.04824014753103256)\", \"(0.0, 0.04827145114541054)\", \"(0.0, 0.04830162599682808)\", \"(0.0, 0.04831337556242943)\", \"(0.0, 0.04868517071008682)\", \"(0.0, 0.04875049367547035)\", \"(0.0, 0.04889223352074623)\", \"(0.0, 0.04891512915492058)\", \"(0.0, 0.048979613929986954)\", \"(0.0, 0.04919404163956642)\", \"(0.0, 0.04965507239103317)\", \"(0.0, 0.04975521191954613)\", \"(0.0, 0.049770157784223557)\", \"(0.0, 0.049885187298059464)\", \"(0.0, 0.05005297809839249)\", \"(0.0, 0.050055522471666336)\", \"(0.0, 0.05046940967440605)\", \"(0.0, 0.05051035434007645)\", \"(0.0, 0.05052465572953224)\", \"(0.0, 0.05092131346464157)\", \"(0.0, 0.05098840594291687)\", \"(0.0, 0.051240481436252594)\", \"(0.0, 0.05136566981673241)\", \"(0.0, 0.05157548934221268)\", \"(0.0, 0.051751140505075455)\", \"(0.0, 0.05179451406002045)\", \"(0.0, 0.051803264766931534)\", \"(0.0, 0.05194847658276558)\", \"(0.0, 0.051998984068632126)\", \"(0.0, 0.05211959034204483)\", \"(0.0, 0.052303899079561234)\", \"(0.0, 0.05252959951758385)\", \"(0.0, 0.05282244831323624)\", \"(0.0, 0.05290600284934044)\", \"(0.0, 0.0529073067009449)\", \"(0.0, 0.05320436879992485)\", \"(0.0, 0.053342849016189575)\", \"(0.0, 0.05341414362192154)\", \"(0.0, 0.05346517637372017)\", \"(0.0, 0.0536179319024086)\", \"(0.0, 0.05373060703277588)\", \"(0.0, 0.05392130836844444)\", \"(0.0, 0.05410752817988396)\", \"(0.0, 0.05438944324851036)\", \"(0.0, 0.05467204004526138)\", \"(0.0, 0.05472812056541443)\", \"(0.0, 0.05486723780632019)\", \"(0.0, 0.05492563545703888)\", \"(0.0, 0.05518316477537155)\", \"(0.0, 0.05528208613395691)\", \"(0.0, 0.055370405316352844)\", \"(0.0, 0.05538402125239372)\", \"(0.0, 0.05541149154305458)\", \"(0.0, 0.05541561171412468)\", \"(0.0, 0.055432792752981186)\", \"(0.0, 0.055775586515665054)\", \"(0.0, 0.05578283220529556)\", \"(0.0, 0.05588370934128761)\", \"(0.0, 0.05635160952806473)\", \"(0.0, 0.05665983259677887)\", \"(0.0, 0.05673984810709953)\", \"(0.0, 0.057419970631599426)\", \"(0.0, 0.057666078209877014)\", \"(0.0, 0.05814117193222046)\", \"(0.0, 0.05881442502140999)\", \"(0.0, 0.0589105449616909)\", \"(0.0, 0.05900714918971062)\", \"(0.0, 0.05948768928647041)\", \"(0.0, 0.059612520039081573)\", \"(0.0, 0.05981537699699402)\", \"(0.0, 0.059974879026412964)\", \"(0.0, 0.06008394807577133)\", \"(0.0, 0.06023392453789711)\", \"(0.0, 0.06026751920580864)\", \"(0.0, 0.06052495539188385)\", \"(0.0, 0.0605270117521286)\", \"(0.0, 0.060596682131290436)\", \"(0.0, 0.060644518584012985)\", \"(0.0, 0.06067367643117905)\", \"(0.0, 0.06102554127573967)\", \"(0.0, 0.06105111539363861)\", \"(0.0, 0.06124361976981163)\", \"(0.0, 0.06126565486192703)\", \"(0.0, 0.061640940606594086)\", \"(0.0, 0.061750251799821854)\", \"(0.0, 0.061838794499635696)\", \"(0.0, 0.062111034989356995)\", \"(0.0, 0.06292328238487244)\", \"(0.0, 0.06343237310647964)\", \"(0.0, 0.06366250663995743)\", \"(0.0, 0.06378341466188431)\", \"(0.0, 0.06396259367465973)\", \"(0.0, 0.06474688649177551)\", \"(0.0, 0.06489875167608261)\", \"(0.0, 0.06538479775190353)\", \"(0.0, 0.06553202122449875)\", \"(0.0, 0.06567459553480148)\", \"(0.0, 0.06582144647836685)\", \"(0.0, 0.06592715531587601)\", \"(0.0, 0.0667600929737091)\", \"(0.0, 0.06686133146286011)\", \"(0.0, 0.06699220091104507)\", \"(0.0, 0.06716848909854889)\", \"(0.0, 0.06723921746015549)\", \"(0.0, 0.06724731624126434)\", \"(0.0, 0.06728130578994751)\", \"(0.0, 0.06736968457698822)\", \"(0.0, 0.06798073649406433)\", \"(0.0, 0.06805180758237839)\", \"(0.0, 0.0682835802435875)\", \"(0.0, 0.06868544220924377)\", \"(0.0, 0.06880369037389755)\", \"(0.0, 0.06957148760557175)\", \"(0.0, 0.06962120532989502)\", \"(0.0, 0.06978993862867355)\", \"(0.0, 0.06997841596603394)\", \"(0.0, 0.07023576647043228)\", \"(0.0, 0.07040528953075409)\", \"(0.0, 0.07073241472244263)\", \"(0.0, 0.07187581807374954)\", \"(0.0, 0.0719110295176506)\", \"(0.0, 0.07316294312477112)\", \"(0.0, 0.07326085865497589)\", \"(0.0, 0.07336538285017014)\", \"(0.0, 0.07357960939407349)\", \"(0.0, 0.07556623220443726)\", \"(0.0, 0.07628242671489716)\", \"(0.0, 0.07634472846984863)\", \"(0.0, 0.08103872835636139)\", \"(0.0, 0.08209463953971863)\", \"(0.0, 0.08219260722398758)\", \"(0.0, 0.08503415435552597)\", \"(0.0, 0.09076473861932755)\", \"(0.0, 0.09401939064264297)\", \"(0.0, 0.0998697578907013)\"], \"mode\": \"markers\", \"name\": \"H0\", \"type\": \"scatter\", \"x\": [0.0, 0.0, 0.0, 0.0, 0.0, 0.0, 0.0, 0.0, 0.0, 0.0, 0.0, 0.0, 0.0, 0.0, 0.0, 0.0, 0.0, 0.0, 0.0, 0.0, 0.0, 0.0, 0.0, 0.0, 0.0, 0.0, 0.0, 0.0, 0.0, 0.0, 0.0, 0.0, 0.0, 0.0, 0.0, 0.0, 0.0, 0.0, 0.0, 0.0, 0.0, 0.0, 0.0, 0.0, 0.0, 0.0, 0.0, 0.0, 0.0, 0.0, 0.0, 0.0, 0.0, 0.0, 0.0, 0.0, 0.0, 0.0, 0.0, 0.0, 0.0, 0.0, 0.0, 0.0, 0.0, 0.0, 0.0, 0.0, 0.0, 0.0, 0.0, 0.0, 0.0, 0.0, 0.0, 0.0, 0.0, 0.0, 0.0, 0.0, 0.0, 0.0, 0.0, 0.0, 0.0, 0.0, 0.0, 0.0, 0.0, 0.0, 0.0, 0.0, 0.0, 0.0, 0.0, 0.0, 0.0, 0.0, 0.0, 0.0, 0.0, 0.0, 0.0, 0.0, 0.0, 0.0, 0.0, 0.0, 0.0, 0.0, 0.0, 0.0, 0.0, 0.0, 0.0, 0.0, 0.0, 0.0, 0.0, 0.0, 0.0, 0.0, 0.0, 0.0, 0.0, 0.0, 0.0, 0.0, 0.0, 0.0, 0.0, 0.0, 0.0, 0.0, 0.0, 0.0, 0.0, 0.0, 0.0, 0.0, 0.0, 0.0, 0.0, 0.0, 0.0, 0.0, 0.0, 0.0, 0.0, 0.0, 0.0, 0.0, 0.0, 0.0, 0.0, 0.0, 0.0, 0.0, 0.0, 0.0, 0.0, 0.0, 0.0, 0.0, 0.0, 0.0, 0.0, 0.0, 0.0, 0.0, 0.0, 0.0, 0.0, 0.0, 0.0, 0.0, 0.0, 0.0, 0.0, 0.0, 0.0, 0.0, 0.0, 0.0, 0.0, 0.0, 0.0, 0.0, 0.0, 0.0, 0.0, 0.0, 0.0, 0.0, 0.0, 0.0, 0.0, 0.0, 0.0, 0.0, 0.0, 0.0, 0.0, 0.0, 0.0, 0.0, 0.0, 0.0, 0.0, 0.0, 0.0, 0.0, 0.0, 0.0, 0.0, 0.0, 0.0, 0.0, 0.0, 0.0, 0.0, 0.0, 0.0, 0.0, 0.0, 0.0, 0.0, 0.0, 0.0, 0.0, 0.0, 0.0, 0.0, 0.0, 0.0, 0.0, 0.0, 0.0, 0.0, 0.0, 0.0, 0.0, 0.0, 0.0, 0.0, 0.0, 0.0, 0.0, 0.0, 0.0, 0.0, 0.0, 0.0, 0.0, 0.0, 0.0, 0.0, 0.0, 0.0, 0.0, 0.0, 0.0, 0.0, 0.0, 0.0, 0.0, 0.0, 0.0, 0.0, 0.0, 0.0, 0.0, 0.0, 0.0, 0.0, 0.0, 0.0, 0.0, 0.0, 0.0, 0.0, 0.0, 0.0, 0.0, 0.0, 0.0, 0.0, 0.0, 0.0, 0.0, 0.0, 0.0, 0.0, 0.0, 0.0, 0.0, 0.0, 0.0, 0.0, 0.0, 0.0, 0.0, 0.0, 0.0, 0.0, 0.0, 0.0, 0.0, 0.0, 0.0, 0.0, 0.0, 0.0, 0.0, 0.0, 0.0, 0.0, 0.0, 0.0, 0.0, 0.0, 0.0, 0.0, 0.0, 0.0, 0.0, 0.0, 0.0, 0.0, 0.0, 0.0, 0.0, 0.0, 0.0, 0.0, 0.0, 0.0, 0.0, 0.0, 0.0, 0.0, 0.0, 0.0, 0.0, 0.0, 0.0, 0.0, 0.0, 0.0, 0.0, 0.0, 0.0, 0.0, 0.0, 0.0, 0.0, 0.0, 0.0, 0.0, 0.0, 0.0, 0.0, 0.0, 0.0, 0.0, 0.0, 0.0, 0.0, 0.0, 0.0, 0.0, 0.0, 0.0, 0.0, 0.0, 0.0, 0.0, 0.0, 0.0, 0.0, 0.0, 0.0, 0.0, 0.0, 0.0, 0.0, 0.0, 0.0, 0.0, 0.0, 0.0, 0.0, 0.0, 0.0, 0.0, 0.0, 0.0, 0.0, 0.0], \"y\": [0.0022422955371439457, 0.0028598238714039326, 0.003753021592274308, 0.004117018077522516, 0.0041249399073421955, 0.004334444645792246, 0.004562899004667997, 0.00508921779692173, 0.005478622857481241, 0.005797529127448797, 0.00627688504755497, 0.00662571657449007, 0.0073094903491437435, 0.007995601743459702, 0.008079608902335167, 0.008086646907031536, 0.008482621982693672, 0.009009336121380329, 0.009058532305061817, 0.009479735977947712, 0.009913524612784386, 0.011128257028758526, 0.01129030529409647, 0.011801119893789291, 0.012182327918708324, 0.012237767688930035, 0.013198209926486015, 0.013212627731263638, 0.013678289949893951, 0.01380867138504982, 0.01403882633894682, 0.014901578426361084, 0.015016274526715279, 0.01525694876909256, 0.015324706211686134, 0.015334321185946465, 0.015442882664501667, 0.016291804611682892, 0.016623813658952713, 0.016703113913536072, 0.017201799899339676, 0.017343785613775253, 0.0175411868840456, 0.01757754199206829, 0.017606372013688087, 0.017649255692958832, 0.017758801579475403, 0.018301356583833694, 0.01834966242313385, 0.018529102206230164, 0.018536359071731567, 0.01854333095252514, 0.018720412626862526, 0.018768619745969772, 0.018924228847026825, 0.01897672563791275, 0.01931941881775856, 0.019364196807146072, 0.01963123120367527, 0.019737010821700096, 0.02009785734117031, 0.020177949219942093, 0.02033066377043724, 0.020339736714959145, 0.020722702145576477, 0.020766979083418846, 0.020779529586434364, 0.02085079997777939, 0.020894506946206093, 0.0210907980799675, 0.021107984706759453, 0.02132883481681347, 0.021468747407197952, 0.021675461903214455, 0.02169210836291313, 0.021944252774119377, 0.02210499718785286, 0.022865448147058487, 0.023184621706604958, 0.023355673998594284, 0.02375899627804756, 0.02380477637052536, 0.023897647857666016, 0.024053363129496574, 0.02420325204730034, 0.02421271614730358, 0.024304956197738647, 0.02447216957807541, 0.024514591321349144, 0.0245743989944458, 0.024635089561343193, 0.024705665186047554, 0.024844782426953316, 0.024846352636814117, 0.025030964985489845, 0.025211796164512634, 0.025303419679403305, 0.025800960138440132, 0.026147840544581413, 0.026274967938661575, 0.026276882737874985, 0.026362769305706024, 0.026523560285568237, 0.026627639308571815, 0.026642432436347008, 0.026680218055844307, 0.02672892063856125, 0.02687503956258297, 0.027094844728708267, 0.027337685227394104, 0.027509042993187904, 0.027562247589230537, 0.027605844661593437, 0.027691269293427467, 0.027707895264029503, 0.027734672650694847, 0.028190232813358307, 0.02849961258471012, 0.02869989536702633, 0.028852589428424835, 0.029130596667528152, 0.02943442203104496, 0.029574790969491005, 0.029923541471362114, 0.030086765065789223, 0.030185958370566368, 0.030466919764876366, 0.030493538826704025, 0.030522793531417847, 0.030874550342559814, 0.030910952016711235, 0.031256064772605896, 0.03154566138982773, 0.03157639876008034, 0.03176341578364372, 0.032022301107645035, 0.03212478756904602, 0.03240431845188141, 0.03240867704153061, 0.03245458006858826, 0.03251401707530022, 0.03253498300909996, 0.032560572028160095, 0.03292303532361984, 0.03304256871342659, 0.03335480019450188, 0.03344474360346794, 0.03355717286467552, 0.03374125435948372, 0.03381333127617836, 0.03384719043970108, 0.03394079953432083, 0.033960141241550446, 0.03423083946108818, 0.03430919349193573, 0.034363072365522385, 0.03448272496461868, 0.03470291197299957, 0.0347122959792614, 0.03490262106060982, 0.0349092036485672, 0.035245366394519806, 0.03555670380592346, 0.035631485283374786, 0.03589135408401489, 0.03615337982773781, 0.03643374517560005, 0.03654460236430168, 0.03668910637497902, 0.03671187907457352, 0.03671438992023468, 0.036822181195020676, 0.03684132918715477, 0.03688102588057518, 0.036886993795633316, 0.036913566291332245, 0.03702317550778389, 0.037227801978588104, 0.037304192781448364, 0.03755344823002815, 0.037700120359659195, 0.03797004744410515, 0.038038164377212524, 0.03816662356257439, 0.038205988705158234, 0.038217030465602875, 0.03831232711672783, 0.03833760321140289, 0.038681261241436005, 0.038755759596824646, 0.03884878009557724, 0.038961928337812424, 0.039061278104782104, 0.03914590924978256, 0.03922087326645851, 0.03922206908464432, 0.039315320551395416, 0.039434075355529785, 0.039599351584911346, 0.03964380547404289, 0.039647940546274185, 0.03967706859111786, 0.0398382768034935, 0.03991909325122833, 0.040006812661886215, 0.040121156722307205, 0.04012826457619667, 0.04016558825969696, 0.0402611680328846, 0.04061727970838547, 0.040834106504917145, 0.04103266820311546, 0.04124882444739342, 0.041259657591581345, 0.041602663695812225, 0.041889894753694534, 0.042123809456825256, 0.04212537407875061, 0.042233843356370926, 0.042263373732566833, 0.042340248823165894, 0.04245352745056152, 0.04257315769791603, 0.04287726432085037, 0.04296879842877388, 0.043026361614465714, 0.04313510283827782, 0.04322057217359543, 0.043382029980421066, 0.043433643877506256, 0.04368714243173599, 0.0439339205622673, 0.04398218169808388, 0.04460163414478302, 0.04480233043432236, 0.0449712872505188, 0.04506034404039383, 0.04506491497159004, 0.04518751800060272, 0.04530956223607063, 0.04565805196762085, 0.04568452015519142, 0.04585737735033035, 0.04621516913175583, 0.04622634872794151, 0.04660308361053467, 0.04661770537495613, 0.04676934331655502, 0.04680652171373367, 0.0469183474779129, 0.046982165426015854, 0.04708745330572128, 0.047192249447107315, 0.04737824201583862, 0.047506850212812424, 0.04751206934452057, 0.04754794389009476, 0.047721464186906815, 0.047751400619745255, 0.047931887209415436, 0.04803171381354332, 0.04806675389409065, 0.048089586198329926, 0.04810420423746109, 0.04824014753103256, 0.04827145114541054, 0.04830162599682808, 0.04831337556242943, 0.04868517071008682, 0.04875049367547035, 0.04889223352074623, 0.04891512915492058, 0.048979613929986954, 0.04919404163956642, 0.04965507239103317, 0.04975521191954613, 0.049770157784223557, 0.049885187298059464, 0.05005297809839249, 0.050055522471666336, 0.05046940967440605, 0.05051035434007645, 0.05052465572953224, 0.05092131346464157, 0.05098840594291687, 0.051240481436252594, 0.05136566981673241, 0.05157548934221268, 0.051751140505075455, 0.05179451406002045, 0.051803264766931534, 0.05194847658276558, 0.051998984068632126, 0.05211959034204483, 0.052303899079561234, 0.05252959951758385, 0.05282244831323624, 0.05290600284934044, 0.0529073067009449, 0.05320436879992485, 0.053342849016189575, 0.05341414362192154, 0.05346517637372017, 0.0536179319024086, 0.05373060703277588, 0.05392130836844444, 0.05410752817988396, 0.05438944324851036, 0.05467204004526138, 0.05472812056541443, 0.05486723780632019, 0.05492563545703888, 0.05518316477537155, 0.05528208613395691, 0.055370405316352844, 0.05538402125239372, 0.05541149154305458, 0.05541561171412468, 0.055432792752981186, 0.055775586515665054, 0.05578283220529556, 0.05588370934128761, 0.05635160952806473, 0.05665983259677887, 0.05673984810709953, 0.057419970631599426, 0.057666078209877014, 0.05814117193222046, 0.05881442502140999, 0.0589105449616909, 0.05900714918971062, 0.05948768928647041, 0.059612520039081573, 0.05981537699699402, 0.059974879026412964, 0.06008394807577133, 0.06023392453789711, 0.06026751920580864, 0.06052495539188385, 0.0605270117521286, 0.060596682131290436, 0.060644518584012985, 0.06067367643117905, 0.06102554127573967, 0.06105111539363861, 0.06124361976981163, 0.06126565486192703, 0.061640940606594086, 0.061750251799821854, 0.061838794499635696, 0.062111034989356995, 0.06292328238487244, 0.06343237310647964, 0.06366250663995743, 0.06378341466188431, 0.06396259367465973, 0.06474688649177551, 0.06489875167608261, 0.06538479775190353, 0.06553202122449875, 0.06567459553480148, 0.06582144647836685, 0.06592715531587601, 0.0667600929737091, 0.06686133146286011, 0.06699220091104507, 0.06716848909854889, 0.06723921746015549, 0.06724731624126434, 0.06728130578994751, 0.06736968457698822, 0.06798073649406433, 0.06805180758237839, 0.0682835802435875, 0.06868544220924377, 0.06880369037389755, 0.06957148760557175, 0.06962120532989502, 0.06978993862867355, 0.06997841596603394, 0.07023576647043228, 0.07040528953075409, 0.07073241472244263, 0.07187581807374954, 0.0719110295176506, 0.07316294312477112, 0.07326085865497589, 0.07336538285017014, 0.07357960939407349, 0.07556623220443726, 0.07628242671489716, 0.07634472846984863, 0.08103872835636139, 0.08209463953971863, 0.08219260722398758, 0.08503415435552597, 0.09076473861932755, 0.09401939064264297, 0.0998697578907013]}, {\"hoverinfo\": \"text\", \"hovertext\": [\"(0.23571418225765228, 0.2407444566488266)\", \"(0.23281462490558624, 0.2361707240343094)\", \"(0.22471046447753906, 0.2271120250225067)\", \"(0.21496495604515076, 0.2201000154018402)\", \"(0.13578985631465912, 0.14082320034503937)\", \"(0.13532976806163788, 0.14985446631908417)\", \"(0.13411851227283478, 0.14049780368804932)\", \"(0.13092631101608276, 0.1378864049911499)\", \"(0.12179349362850189, 0.12509188055992126)\", \"(0.12002560496330261, 0.12387105822563171)\", \"(0.11957169324159622, 0.13133594393730164)\", \"(0.1184154748916626, 0.12109263241291046)\", \"(0.11272673308849335, 0.11915042996406555)\", \"(0.11117521673440933, 0.12578043341636658)\", \"(0.11001716554164886, 0.12036943435668945)\", \"(0.10791850835084915, 0.11307977885007858)\", \"(0.10733319073915482, 0.12576845288276672)\", \"(0.10213544964790344, 0.10310065746307373)\", \"(0.10153860598802567, 0.11220565438270569)\", \"(0.1013825386762619, 0.11999168246984482)\", \"(0.10130086541175842, 0.10816443711519241)\", \"(0.10110367834568024, 0.15443795919418335)\", \"(0.10002084076404572, 0.1045830100774765)\", \"(0.09924420714378357, 0.10988438129425049)\", \"(0.0981939360499382, 0.10506665706634521)\", \"(0.0978643074631691, 0.12262873351573944)\", \"(0.09745679795742035, 0.10743951052427292)\", \"(0.0968964472413063, 0.1212482899427414)\", \"(0.09584582597017288, 0.10931423306465149)\", \"(0.09579675644636154, 0.13806430995464325)\", \"(0.09560085088014603, 0.10215010493993759)\", \"(0.0949447974562645, 0.09586408734321594)\", \"(0.0941149964928627, 0.11000850051641464)\", \"(0.09324438124895096, 0.09742585569620132)\", \"(0.09218290448188782, 0.24877087771892548)\", \"(0.0914013683795929, 0.15499316155910492)\", \"(0.09051099419593811, 0.10499611496925354)\", \"(0.09016885608434677, 0.12273477017879486)\", \"(0.08928802609443665, 0.10937365889549255)\", \"(0.08748035877943039, 0.09950538724660873)\", \"(0.08739322423934937, 0.09654036909341812)\", \"(0.08663751184940338, 0.15429635345935822)\", \"(0.08663716167211533, 0.08940312266349792)\", \"(0.08662708848714828, 0.11072421073913574)\", \"(0.0863962322473526, 0.12908652424812317)\", \"(0.0853714719414711, 0.09648080170154572)\", \"(0.08520715683698654, 0.0878378227353096)\", \"(0.0846635028719902, 0.11144725978374481)\", \"(0.08448858559131622, 0.08528055995702744)\", \"(0.08406950533390045, 0.08663545548915863)\", \"(0.08386214077472687, 0.09147302061319351)\", \"(0.0837632417678833, 0.12327884137630463)\", \"(0.08365566283464432, 0.10124912112951279)\", \"(0.08306568115949631, 0.09809388965368271)\", \"(0.08248424530029297, 0.08418132364749908)\", \"(0.08183348178863525, 0.16989962756633759)\", \"(0.08139418065547943, 0.13629430532455444)\", \"(0.08110929280519485, 0.09152957051992416)\", \"(0.08096938580274582, 0.09216336905956268)\", \"(0.08087389916181564, 0.0912979319691658)\", \"(0.08080241084098816, 0.08664239943027496)\", \"(0.0803239569067955, 0.12150304764509201)\", \"(0.08029939979314804, 0.09751078486442566)\", \"(0.08024635165929794, 0.10920818150043488)\", \"(0.07927697151899338, 0.09864859282970428)\", \"(0.07881782948970795, 0.0914781242609024)\", \"(0.07878942787647247, 0.11674697697162628)\", \"(0.07855889946222305, 0.10717251896858215)\", \"(0.0782623142004013, 0.08718259632587433)\", \"(0.07796729356050491, 0.10010488331317902)\", \"(0.07759849727153778, 0.13204656541347504)\", \"(0.0773334726691246, 0.11861762404441833)\", \"(0.07711910456418991, 0.11905071139335632)\", \"(0.07692249864339828, 0.09586408734321594)\", \"(0.07690318673849106, 0.11567464470863342)\", \"(0.07684767991304398, 0.16118693351745605)\", \"(0.07496374845504761, 0.13222327828407288)\", \"(0.07431718707084656, 0.07523416727781296)\", \"(0.07409350574016571, 0.0971975326538086)\", \"(0.07396792620420456, 0.07943233847618103)\", \"(0.07350456714630127, 0.08881589770317078)\", \"(0.07275749742984772, 0.09427465498447418)\", \"(0.07185746729373932, 0.0746895894408226)\", \"(0.07125437259674072, 0.08384775370359421)\", \"(0.07108104228973389, 0.08304302394390106)\", \"(0.0709899365901947, 0.11278591305017471)\", \"(0.07046062499284744, 0.07179205864667892)\", \"(0.07040873169898987, 0.08039136976003647)\", \"(0.07018472254276276, 0.07118921726942062)\", \"(0.0693671703338623, 0.07272999733686447)\", \"(0.06931574642658234, 0.070430688560009)\", \"(0.06921548396348953, 0.10242711752653122)\", \"(0.06858395785093307, 0.08192437887191772)\", \"(0.06775277107954025, 0.06878732889890671)\", \"(0.06629125773906708, 0.06917235255241394)\", \"(0.06581607460975647, 0.0694299265742302)\", \"(0.06516458839178085, 0.06671304255723953)\", \"(0.06499643623828888, 0.0727875828742981)\", \"(0.06472871452569962, 0.07003790140151978)\", \"(0.06366130709648132, 0.08726676553487778)\", \"(0.06268485635519028, 0.09307383000850677)\", \"(0.06265666335821152, 0.07354358583688736)\", \"(0.06257913261651993, 0.06307992339134216)\", \"(0.06207923963665962, 0.06715955585241318)\", \"(0.06189161166548729, 0.07342436164617538)\", \"(0.06093904376029968, 0.11698199063539505)\", \"(0.06067967414855957, 0.061761245131492615)\", \"(0.0604495108127594, 0.06594552844762802)\", \"(0.05903926491737366, 0.06698499619960785)\", \"(0.05858030170202255, 0.07394520938396454)\", \"(0.0585787370800972, 0.064226433634758)\", \"(0.05836532264947891, 0.064795583486557)\", \"(0.05810588598251343, 0.05866796150803566)\", \"(0.05680982023477554, 0.0601692721247673)\", \"(0.05567428842186928, 0.06105956807732582)\", \"(0.05431550368666649, 0.06143161281943321)\", \"(0.05426691472530365, 0.055881138890981674)\", \"(0.0533113032579422, 0.0577089749276638)\", \"(0.052871331572532654, 0.06669938564300537)\", \"(0.052402518689632416, 0.06281431019306183)\", \"(0.05193611979484558, 0.05423153564333916)\", \"(0.05078641325235367, 0.058285243809223175)\", \"(0.05025111511349678, 0.07813677191734314)\", \"(0.04546835646033287, 0.0554635226726532)\", \"(0.04337906092405319, 0.05280253291130066)\", \"(0.03985271602869034, 0.046669989824295044)\"], \"mode\": \"markers\", \"name\": \"H1\", \"type\": \"scatter\", \"x\": [0.23571418225765228, 0.23281462490558624, 0.22471046447753906, 0.21496495604515076, 0.13578985631465912, 0.13532976806163788, 0.13411851227283478, 0.13092631101608276, 0.12179349362850189, 0.12002560496330261, 0.11957169324159622, 0.1184154748916626, 0.11272673308849335, 0.11117521673440933, 0.11001716554164886, 0.10791850835084915, 0.10733319073915482, 0.10213544964790344, 0.10153860598802567, 0.1013825386762619, 0.10130086541175842, 0.10110367834568024, 0.10002084076404572, 0.09924420714378357, 0.0981939360499382, 0.0978643074631691, 0.09745679795742035, 0.0968964472413063, 0.09584582597017288, 0.09579675644636154, 0.09560085088014603, 0.0949447974562645, 0.0941149964928627, 0.09324438124895096, 0.09218290448188782, 0.0914013683795929, 0.09051099419593811, 0.09016885608434677, 0.08928802609443665, 0.08748035877943039, 0.08739322423934937, 0.08663751184940338, 0.08663716167211533, 0.08662708848714828, 0.0863962322473526, 0.0853714719414711, 0.08520715683698654, 0.0846635028719902, 0.08448858559131622, 0.08406950533390045, 0.08386214077472687, 0.0837632417678833, 0.08365566283464432, 0.08306568115949631, 0.08248424530029297, 0.08183348178863525, 0.08139418065547943, 0.08110929280519485, 0.08096938580274582, 0.08087389916181564, 0.08080241084098816, 0.0803239569067955, 0.08029939979314804, 0.08024635165929794, 0.07927697151899338, 0.07881782948970795, 0.07878942787647247, 0.07855889946222305, 0.0782623142004013, 0.07796729356050491, 0.07759849727153778, 0.0773334726691246, 0.07711910456418991, 0.07692249864339828, 0.07690318673849106, 0.07684767991304398, 0.07496374845504761, 0.07431718707084656, 0.07409350574016571, 0.07396792620420456, 0.07350456714630127, 0.07275749742984772, 0.07185746729373932, 0.07125437259674072, 0.07108104228973389, 0.0709899365901947, 0.07046062499284744, 0.07040873169898987, 0.07018472254276276, 0.0693671703338623, 0.06931574642658234, 0.06921548396348953, 0.06858395785093307, 0.06775277107954025, 0.06629125773906708, 0.06581607460975647, 0.06516458839178085, 0.06499643623828888, 0.06472871452569962, 0.06366130709648132, 0.06268485635519028, 0.06265666335821152, 0.06257913261651993, 0.06207923963665962, 0.06189161166548729, 0.06093904376029968, 0.06067967414855957, 0.0604495108127594, 0.05903926491737366, 0.05858030170202255, 0.0585787370800972, 0.05836532264947891, 0.05810588598251343, 0.05680982023477554, 0.05567428842186928, 0.05431550368666649, 0.05426691472530365, 0.0533113032579422, 0.052871331572532654, 0.052402518689632416, 0.05193611979484558, 0.05078641325235367, 0.05025111511349678, 0.04546835646033287, 0.04337906092405319, 0.03985271602869034], \"y\": [0.2407444566488266, 0.2361707240343094, 0.2271120250225067, 0.2201000154018402, 0.14082320034503937, 0.14985446631908417, 0.14049780368804932, 0.1378864049911499, 0.12509188055992126, 0.12387105822563171, 0.13133594393730164, 0.12109263241291046, 0.11915042996406555, 0.12578043341636658, 0.12036943435668945, 0.11307977885007858, 0.12576845288276672, 0.10310065746307373, 0.11220565438270569, 0.11999168246984482, 0.10816443711519241, 0.15443795919418335, 0.1045830100774765, 0.10988438129425049, 0.10506665706634521, 0.12262873351573944, 0.10743951052427292, 0.1212482899427414, 0.10931423306465149, 0.13806430995464325, 0.10215010493993759, 0.09586408734321594, 0.11000850051641464, 0.09742585569620132, 0.24877087771892548, 0.15499316155910492, 0.10499611496925354, 0.12273477017879486, 0.10937365889549255, 0.09950538724660873, 0.09654036909341812, 0.15429635345935822, 0.08940312266349792, 0.11072421073913574, 0.12908652424812317, 0.09648080170154572, 0.0878378227353096, 0.11144725978374481, 0.08528055995702744, 0.08663545548915863, 0.09147302061319351, 0.12327884137630463, 0.10124912112951279, 0.09809388965368271, 0.08418132364749908, 0.16989962756633759, 0.13629430532455444, 0.09152957051992416, 0.09216336905956268, 0.0912979319691658, 0.08664239943027496, 0.12150304764509201, 0.09751078486442566, 0.10920818150043488, 0.09864859282970428, 0.0914781242609024, 0.11674697697162628, 0.10717251896858215, 0.08718259632587433, 0.10010488331317902, 0.13204656541347504, 0.11861762404441833, 0.11905071139335632, 0.09586408734321594, 0.11567464470863342, 0.16118693351745605, 0.13222327828407288, 0.07523416727781296, 0.0971975326538086, 0.07943233847618103, 0.08881589770317078, 0.09427465498447418, 0.0746895894408226, 0.08384775370359421, 0.08304302394390106, 0.11278591305017471, 0.07179205864667892, 0.08039136976003647, 0.07118921726942062, 0.07272999733686447, 0.070430688560009, 0.10242711752653122, 0.08192437887191772, 0.06878732889890671, 0.06917235255241394, 0.0694299265742302, 0.06671304255723953, 0.0727875828742981, 0.07003790140151978, 0.08726676553487778, 0.09307383000850677, 0.07354358583688736, 0.06307992339134216, 0.06715955585241318, 0.07342436164617538, 0.11698199063539505, 0.061761245131492615, 0.06594552844762802, 0.06698499619960785, 0.07394520938396454, 0.064226433634758, 0.064795583486557, 0.05866796150803566, 0.0601692721247673, 0.06105956807732582, 0.06143161281943321, 0.055881138890981674, 0.0577089749276638, 0.06669938564300537, 0.06281431019306183, 0.05423153564333916, 0.058285243809223175, 0.07813677191734314, 0.0554635226726532, 0.05280253291130066, 0.046669989824295044]}, {\"hoverinfo\": \"text\", \"hovertext\": [\"(0.26487308740615845, 0.2662585377693176)\", \"(0.25470682978630066, 0.2549615800380707)\", \"(0.2541027367115021, 0.2556285262107849)\", \"(0.2518773078918457, 0.2610459327697754)\", \"(0.24927546083927155, 0.2508962154388428)\", \"(0.1702425628900528, 0.27182453870773315)\", \"(0.15883129835128784, 0.16166824102401733)\", \"(0.10943801701068878, 0.1316993683576584)\", \"(0.1056346520781517, 0.10864976048469543)\", \"(0.07652022689580917, 0.07854773104190826)\", \"(0.06769239157438278, 0.06882209330797195)\"], \"mode\": \"markers\", \"name\": \"H2\", \"type\": \"scatter\", \"x\": [0.26487308740615845, 0.25470682978630066, 0.2541027367115021, 0.2518773078918457, 0.24927546083927155, 0.1702425628900528, 0.15883129835128784, 0.10943801701068878, 0.1056346520781517, 0.07652022689580917, 0.06769239157438278], \"y\": [0.2662585377693176, 0.2549615800380707, 0.2556285262107849, 0.2610459327697754, 0.2508962154388428, 0.27182453870773315, 0.16166824102401733, 0.1316993683576584, 0.10864976048469543, 0.07854773104190826, 0.06882209330797195]}],                        {\"height\": 500, \"plot_bgcolor\": \"white\", \"template\": {\"data\": {\"bar\": [{\"error_x\": {\"color\": \"#2a3f5f\"}, \"error_y\": {\"color\": \"#2a3f5f\"}, \"marker\": {\"line\": {\"color\": \"#E5ECF6\", \"width\": 0.5}}, \"type\": \"bar\"}], \"barpolar\": [{\"marker\": {\"line\": {\"color\": \"#E5ECF6\", \"width\": 0.5}}, \"type\": \"barpolar\"}], \"carpet\": [{\"aaxis\": {\"endlinecolor\": \"#2a3f5f\", \"gridcolor\": \"white\", \"linecolor\": \"white\", \"minorgridcolor\": \"white\", \"startlinecolor\": \"#2a3f5f\"}, \"baxis\": {\"endlinecolor\": \"#2a3f5f\", \"gridcolor\": \"white\", \"linecolor\": \"white\", \"minorgridcolor\": \"white\", \"startlinecolor\": \"#2a3f5f\"}, \"type\": \"carpet\"}], \"choropleth\": [{\"colorbar\": {\"outlinewidth\": 0, \"ticks\": \"\"}, \"type\": \"choropleth\"}], \"contour\": [{\"colorbar\": {\"outlinewidth\": 0, \"ticks\": \"\"}, \"colorscale\": [[0.0, \"#0d0887\"], [0.1111111111111111, \"#46039f\"], [0.2222222222222222, \"#7201a8\"], [0.3333333333333333, \"#9c179e\"], [0.4444444444444444, \"#bd3786\"], [0.5555555555555556, \"#d8576b\"], [0.6666666666666666, \"#ed7953\"], [0.7777777777777778, \"#fb9f3a\"], [0.8888888888888888, \"#fdca26\"], [1.0, \"#f0f921\"]], \"type\": \"contour\"}], \"contourcarpet\": [{\"colorbar\": {\"outlinewidth\": 0, \"ticks\": \"\"}, \"type\": \"contourcarpet\"}], \"heatmap\": [{\"colorbar\": {\"outlinewidth\": 0, \"ticks\": \"\"}, \"colorscale\": [[0.0, \"#0d0887\"], [0.1111111111111111, \"#46039f\"], [0.2222222222222222, \"#7201a8\"], [0.3333333333333333, \"#9c179e\"], [0.4444444444444444, \"#bd3786\"], [0.5555555555555556, \"#d8576b\"], [0.6666666666666666, \"#ed7953\"], [0.7777777777777778, \"#fb9f3a\"], [0.8888888888888888, \"#fdca26\"], [1.0, \"#f0f921\"]], \"type\": \"heatmap\"}], \"heatmapgl\": [{\"colorbar\": {\"outlinewidth\": 0, \"ticks\": \"\"}, \"colorscale\": [[0.0, \"#0d0887\"], [0.1111111111111111, \"#46039f\"], [0.2222222222222222, \"#7201a8\"], [0.3333333333333333, \"#9c179e\"], [0.4444444444444444, \"#bd3786\"], [0.5555555555555556, \"#d8576b\"], [0.6666666666666666, \"#ed7953\"], [0.7777777777777778, \"#fb9f3a\"], [0.8888888888888888, \"#fdca26\"], [1.0, \"#f0f921\"]], \"type\": \"heatmapgl\"}], \"histogram\": [{\"marker\": {\"colorbar\": {\"outlinewidth\": 0, \"ticks\": \"\"}}, \"type\": \"histogram\"}], \"histogram2d\": [{\"colorbar\": {\"outlinewidth\": 0, \"ticks\": \"\"}, \"colorscale\": [[0.0, \"#0d0887\"], [0.1111111111111111, \"#46039f\"], [0.2222222222222222, \"#7201a8\"], [0.3333333333333333, \"#9c179e\"], [0.4444444444444444, \"#bd3786\"], [0.5555555555555556, \"#d8576b\"], [0.6666666666666666, \"#ed7953\"], [0.7777777777777778, \"#fb9f3a\"], [0.8888888888888888, \"#fdca26\"], [1.0, \"#f0f921\"]], \"type\": \"histogram2d\"}], \"histogram2dcontour\": [{\"colorbar\": {\"outlinewidth\": 0, \"ticks\": \"\"}, \"colorscale\": [[0.0, \"#0d0887\"], [0.1111111111111111, \"#46039f\"], [0.2222222222222222, \"#7201a8\"], [0.3333333333333333, \"#9c179e\"], [0.4444444444444444, \"#bd3786\"], [0.5555555555555556, \"#d8576b\"], [0.6666666666666666, \"#ed7953\"], [0.7777777777777778, \"#fb9f3a\"], [0.8888888888888888, \"#fdca26\"], [1.0, \"#f0f921\"]], \"type\": \"histogram2dcontour\"}], \"mesh3d\": [{\"colorbar\": {\"outlinewidth\": 0, \"ticks\": \"\"}, \"type\": \"mesh3d\"}], \"parcoords\": [{\"line\": {\"colorbar\": {\"outlinewidth\": 0, \"ticks\": \"\"}}, \"type\": \"parcoords\"}], \"pie\": [{\"automargin\": true, \"type\": \"pie\"}], \"scatter\": [{\"marker\": {\"colorbar\": {\"outlinewidth\": 0, \"ticks\": \"\"}}, \"type\": \"scatter\"}], \"scatter3d\": [{\"line\": {\"colorbar\": {\"outlinewidth\": 0, \"ticks\": \"\"}}, \"marker\": {\"colorbar\": {\"outlinewidth\": 0, \"ticks\": \"\"}}, \"type\": \"scatter3d\"}], \"scattercarpet\": [{\"marker\": {\"colorbar\": {\"outlinewidth\": 0, \"ticks\": \"\"}}, \"type\": \"scattercarpet\"}], \"scattergeo\": [{\"marker\": {\"colorbar\": {\"outlinewidth\": 0, \"ticks\": \"\"}}, \"type\": \"scattergeo\"}], \"scattergl\": [{\"marker\": {\"colorbar\": {\"outlinewidth\": 0, \"ticks\": \"\"}}, \"type\": \"scattergl\"}], \"scattermapbox\": [{\"marker\": {\"colorbar\": {\"outlinewidth\": 0, \"ticks\": \"\"}}, \"type\": \"scattermapbox\"}], \"scatterpolar\": [{\"marker\": {\"colorbar\": {\"outlinewidth\": 0, \"ticks\": \"\"}}, \"type\": \"scatterpolar\"}], \"scatterpolargl\": [{\"marker\": {\"colorbar\": {\"outlinewidth\": 0, \"ticks\": \"\"}}, \"type\": \"scatterpolargl\"}], \"scatterternary\": [{\"marker\": {\"colorbar\": {\"outlinewidth\": 0, \"ticks\": \"\"}}, \"type\": \"scatterternary\"}], \"surface\": [{\"colorbar\": {\"outlinewidth\": 0, \"ticks\": \"\"}, \"colorscale\": [[0.0, \"#0d0887\"], [0.1111111111111111, \"#46039f\"], [0.2222222222222222, \"#7201a8\"], [0.3333333333333333, \"#9c179e\"], [0.4444444444444444, \"#bd3786\"], [0.5555555555555556, \"#d8576b\"], [0.6666666666666666, \"#ed7953\"], [0.7777777777777778, \"#fb9f3a\"], [0.8888888888888888, \"#fdca26\"], [1.0, \"#f0f921\"]], \"type\": \"surface\"}], \"table\": [{\"cells\": {\"fill\": {\"color\": \"#EBF0F8\"}, \"line\": {\"color\": \"white\"}}, \"header\": {\"fill\": {\"color\": \"#C8D4E3\"}, \"line\": {\"color\": \"white\"}}, \"type\": \"table\"}]}, \"layout\": {\"annotationdefaults\": {\"arrowcolor\": \"#2a3f5f\", \"arrowhead\": 0, \"arrowwidth\": 1}, \"autotypenumbers\": \"strict\", \"coloraxis\": {\"colorbar\": {\"outlinewidth\": 0, \"ticks\": \"\"}}, \"colorscale\": {\"diverging\": [[0, \"#8e0152\"], [0.1, \"#c51b7d\"], [0.2, \"#de77ae\"], [0.3, \"#f1b6da\"], [0.4, \"#fde0ef\"], [0.5, \"#f7f7f7\"], [0.6, \"#e6f5d0\"], [0.7, \"#b8e186\"], [0.8, \"#7fbc41\"], [0.9, \"#4d9221\"], [1, \"#276419\"]], \"sequential\": [[0.0, \"#0d0887\"], [0.1111111111111111, \"#46039f\"], [0.2222222222222222, \"#7201a8\"], [0.3333333333333333, \"#9c179e\"], [0.4444444444444444, \"#bd3786\"], [0.5555555555555556, \"#d8576b\"], [0.6666666666666666, \"#ed7953\"], [0.7777777777777778, \"#fb9f3a\"], [0.8888888888888888, \"#fdca26\"], [1.0, \"#f0f921\"]], \"sequentialminus\": [[0.0, \"#0d0887\"], [0.1111111111111111, \"#46039f\"], [0.2222222222222222, \"#7201a8\"], [0.3333333333333333, \"#9c179e\"], [0.4444444444444444, \"#bd3786\"], [0.5555555555555556, \"#d8576b\"], [0.6666666666666666, \"#ed7953\"], [0.7777777777777778, \"#fb9f3a\"], [0.8888888888888888, \"#fdca26\"], [1.0, \"#f0f921\"]]}, \"colorway\": [\"#636efa\", \"#EF553B\", \"#00cc96\", \"#ab63fa\", \"#FFA15A\", \"#19d3f3\", \"#FF6692\", \"#B6E880\", \"#FF97FF\", \"#FECB52\"], \"font\": {\"color\": \"#2a3f5f\"}, \"geo\": {\"bgcolor\": \"white\", \"lakecolor\": \"white\", \"landcolor\": \"#E5ECF6\", \"showlakes\": true, \"showland\": true, \"subunitcolor\": \"white\"}, \"hoverlabel\": {\"align\": \"left\"}, \"hovermode\": \"closest\", \"mapbox\": {\"style\": \"light\"}, \"paper_bgcolor\": \"white\", \"plot_bgcolor\": \"#E5ECF6\", \"polar\": {\"angularaxis\": {\"gridcolor\": \"white\", \"linecolor\": \"white\", \"ticks\": \"\"}, \"bgcolor\": \"#E5ECF6\", \"radialaxis\": {\"gridcolor\": \"white\", \"linecolor\": \"white\", \"ticks\": \"\"}}, \"scene\": {\"xaxis\": {\"backgroundcolor\": \"#E5ECF6\", \"gridcolor\": \"white\", \"gridwidth\": 2, \"linecolor\": \"white\", \"showbackground\": true, \"ticks\": \"\", \"zerolinecolor\": \"white\"}, \"yaxis\": {\"backgroundcolor\": \"#E5ECF6\", \"gridcolor\": \"white\", \"gridwidth\": 2, \"linecolor\": \"white\", \"showbackground\": true, \"ticks\": \"\", \"zerolinecolor\": \"white\"}, \"zaxis\": {\"backgroundcolor\": \"#E5ECF6\", \"gridcolor\": \"white\", \"gridwidth\": 2, \"linecolor\": \"white\", \"showbackground\": true, \"ticks\": \"\", \"zerolinecolor\": \"white\"}}, \"shapedefaults\": {\"line\": {\"color\": \"#2a3f5f\"}}, \"ternary\": {\"aaxis\": {\"gridcolor\": \"white\", \"linecolor\": \"white\", \"ticks\": \"\"}, \"baxis\": {\"gridcolor\": \"white\", \"linecolor\": \"white\", \"ticks\": \"\"}, \"bgcolor\": \"#E5ECF6\", \"caxis\": {\"gridcolor\": \"white\", \"linecolor\": \"white\", \"ticks\": \"\"}}, \"title\": {\"x\": 0.05}, \"xaxis\": {\"automargin\": true, \"gridcolor\": \"white\", \"linecolor\": \"white\", \"ticks\": \"\", \"title\": {\"standoff\": 15}, \"zerolinecolor\": \"white\", \"zerolinewidth\": 2}, \"yaxis\": {\"automargin\": true, \"gridcolor\": \"white\", \"linecolor\": \"white\", \"ticks\": \"\", \"title\": {\"standoff\": 15}, \"zerolinecolor\": \"white\", \"zerolinewidth\": 2}}}, \"width\": 500, \"xaxis\": {\"autorange\": false, \"exponentformat\": \"e\", \"linecolor\": \"black\", \"linewidth\": 1, \"mirror\": false, \"range\": [-0.0054364907741546635, 0.2772610294818878], \"showexponent\": \"all\", \"showline\": true, \"side\": \"bottom\", \"ticks\": \"outside\", \"title\": {\"text\": \"Birth\"}, \"type\": \"linear\", \"zeroline\": true}, \"yaxis\": {\"autorange\": false, \"exponentformat\": \"e\", \"linecolor\": \"black\", \"linewidth\": 1, \"mirror\": false, \"range\": [-0.0054364907741546635, 0.2772610294818878], \"scaleanchor\": \"x\", \"scaleratio\": 1, \"showexponent\": \"all\", \"showline\": true, \"side\": \"left\", \"ticks\": \"outside\", \"title\": {\"text\": \"Death\"}, \"type\": \"linear\", \"zeroline\": true}},                        {\"responsive\": true}                    ).then(function(){\n",
              "                            \n",
              "var gd = document.getElementById('a9f3ceee-8b8f-479e-bb0b-dfb40fc36ddf');\n",
              "var x = new MutationObserver(function (mutations, observer) {{\n",
              "        var display = window.getComputedStyle(gd).display;\n",
              "        if (!display || display === 'none') {{\n",
              "            console.log([gd, 'removed!']);\n",
              "            Plotly.purge(gd);\n",
              "            observer.disconnect();\n",
              "        }}\n",
              "}});\n",
              "\n",
              "// Listen for the removal of the full notebook cells\n",
              "var notebookContainer = gd.closest('#notebook-container');\n",
              "if (notebookContainer) {{\n",
              "    x.observe(notebookContainer, {childList: true});\n",
              "}}\n",
              "\n",
              "// Listen for the clearing of the current output cell\n",
              "var outputEl = gd.closest('.output');\n",
              "if (outputEl) {{\n",
              "    x.observe(outputEl, {childList: true});\n",
              "}}\n",
              "\n",
              "                        })                };                            </script>        </div>\n",
              "</body>\n",
              "</html>"
            ]
          },
          "metadata": {
            "tags": []
          }
        }
      ]
    },
    {
      "cell_type": "code",
      "metadata": {
        "colab": {
          "base_uri": "https://localhost:8080/"
        },
        "id": "g29wG8divtoT",
        "outputId": "dc8e0057-2aec-473b-9c00-4b12a1660c46"
      },
      "source": [
        "from gtda.diagrams import PersistenceEntropy\n",
        "persistence_entropy = PersistenceEntropy(normalize=True)\n",
        "# Calculate topological feature matrix\n",
        "X = persistence_entropy.fit_transform(persistence_diagrams)\n",
        "X.shape"
      ],
      "execution_count": null,
      "outputs": [
        {
          "output_type": "execute_result",
          "data": {
            "text/plain": [
              "(40, 3)"
            ]
          },
          "metadata": {
            "tags": []
          },
          "execution_count": 20
        }
      ]
    },
    {
      "cell_type": "code",
      "metadata": {
        "id": "GXV0jYGnv_Ts"
      },
      "source": [
        "from gtda.diagrams import NumberOfPoints,Amplitude\n",
        "from sklearn.pipeline import make_union\n",
        "\n",
        "# Select a variety of metrics to calculate amplitudes\n",
        "metrics = [\n",
        "    {\"metric\": metric}\n",
        "    for metric in [\"bottleneck\", \"wasserstein\", \"landscape\", \"persistence_image\"]\n",
        "]\n",
        "\n",
        "# Concatenate to generate 3 + 3 + (4 x 3) = 18 topological features\n",
        "feature_union = make_union(\n",
        "    PersistenceEntropy(normalize=True),\n",
        "    NumberOfPoints(n_jobs=-1),\n",
        "    *[Amplitude(**metric, n_jobs=-1) for metric in metrics]\n",
        ")"
      ],
      "execution_count": null,
      "outputs": []
    },
    {
      "cell_type": "code",
      "metadata": {
        "id": "a60O3MFEwl91"
      },
      "source": [
        "from gtda.pipeline import Pipeline\n",
        "from sklearn.ensemble import RandomForestClassifier\n",
        "\n",
        "steps = [\n",
        "    (\"persistence\", VietorisRipsPersistence(metric=\"euclidean\", homology_dimensions=homology_dimensions, n_jobs=6)),\n",
        "    (\"features\", feature_union),\n",
        "    (\"model\", RandomForestClassifier(oob_score=True)),\n",
        "]\n",
        "\n",
        "pipeline = Pipeline(steps)"
      ],
      "execution_count": null,
      "outputs": []
    },
    {
      "cell_type": "code",
      "metadata": {
        "id": "wBmWmoO51B9y"
      },
      "source": [
        "labels = np.zeros(40)\n",
        "labels[10:20] = 1\n",
        "labels[20:30] = 2\n",
        "labels[30:] = 3"
      ],
      "execution_count": null,
      "outputs": []
    },
    {
      "cell_type": "code",
      "metadata": {
        "colab": {
          "base_uri": "https://localhost:8080/"
        },
        "id": "GgjhChNMxPoT",
        "outputId": "d20a9ff9-7f4d-4759-afce-c0ac56fd7270"
      },
      "source": [
        "pipeline.fit(point_clouds,labels)"
      ],
      "execution_count": null,
      "outputs": [
        {
          "output_type": "stream",
          "text": [
            "/usr/local/lib/python3.7/dist-packages/joblib/externals/loky/process_executor.py:691: UserWarning:\n",
            "\n",
            "A worker stopped while some jobs were given to the executor. This can be caused by a too short worker timeout or by a memory leak.\n",
            "\n"
          ],
          "name": "stderr"
        },
        {
          "output_type": "execute_result",
          "data": {
            "text/plain": [
              "Pipeline(steps=[('persistence',\n",
              "                 VietorisRipsPersistence(homology_dimensions=[0, 1, 2],\n",
              "                                         n_jobs=6)),\n",
              "                ('features',\n",
              "                 FeatureUnion(transformer_list=[('persistenceentropy',\n",
              "                                                 PersistenceEntropy(normalize=True)),\n",
              "                                                ('numberofpoints',\n",
              "                                                 NumberOfPoints(n_jobs=-1)),\n",
              "                                                ('amplitude-1',\n",
              "                                                 Amplitude(metric='bottleneck',\n",
              "                                                           n_jobs=-1)),\n",
              "                                                ('amplitude-2',\n",
              "                                                 Amplitude(metric='wasserstein',\n",
              "                                                           n_jobs=-1)),\n",
              "                                                ('amplitude-3',\n",
              "                                                 Amplitude(n_jobs=-1)),\n",
              "                                                ('amplitude-4',\n",
              "                                                 Amplitude(metric='persistence_image',\n",
              "                                                           n_jobs=-1))])),\n",
              "                ('model', RandomForestClassifier(oob_score=True))])"
            ]
          },
          "metadata": {
            "tags": []
          },
          "execution_count": 27
        }
      ]
    },
    {
      "cell_type": "code",
      "metadata": {
        "colab": {
          "base_uri": "https://localhost:8080/"
        },
        "id": "T8vM1Pejx5YB",
        "outputId": "d750fb09-dfbb-46ad-db3e-d40728dd71e7"
      },
      "source": [
        "pipeline['model'].oob_score_"
      ],
      "execution_count": null,
      "outputs": [
        {
          "output_type": "execute_result",
          "data": {
            "text/plain": [
              "0.825"
            ]
          },
          "metadata": {
            "tags": []
          },
          "execution_count": 28
        }
      ]
    },
    {
      "cell_type": "code",
      "metadata": {
        "id": "7OW_4utm0imN"
      },
      "source": [],
      "execution_count": null,
      "outputs": []
    }
  ]
}